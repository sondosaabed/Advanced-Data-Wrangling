{
 "cells": [
  {
   "cell_type": "code",
   "execution_count": 1,
   "id": "ca453ced",
   "metadata": {},
   "outputs": [],
   "source": [
    "import glob\n",
    "import pandas as pd"
   ]
  },
  {
   "cell_type": "code",
   "execution_count": 2,
   "id": "c4add288",
   "metadata": {},
   "outputs": [
    {
     "data": {
      "text/plain": [
       "['ebert_reviews_2017/2-citizen-kane.txt',\n",
       " 'ebert_reviews_2017/1-the-wizard-of-oz-1939-film.txt',\n",
       " 'ebert_reviews_2017/3-the-third-man.txt']"
      ]
     },
     "execution_count": 2,
     "metadata": {},
     "output_type": "execute_result"
    }
   ],
   "source": [
    "glob.glob('ebert_reviews_2017/*.txt')"
   ]
  },
  {
   "cell_type": "code",
   "execution_count": 3,
   "id": "d3420e36",
   "metadata": {},
   "outputs": [],
   "source": [
    "#Create an empty list\n",
    "text_list = []\n",
    "#Iterate through files in directory\n",
    "for ebert_review in glob.glob('ebert_reviews_2017/*.txt'):\n",
    "    #Open file with UTF-8 encoding\n",
    "    with open(ebert_review, encoding='utf-8') as file:\n",
    "        #Read the 1st line\n",
    "        title = file.readline()[:-1]\n",
    "        #Read the 2nd line\n",
    "        review_url = file.readline()[:-1]\n",
    "        review_text = file.read()\n",
    "        # Append to list of dictionaries\n",
    "        text_list.append({'title': title,\n",
    "                        'review_url': review_url,\n",
    "                        'review_text': review_text})\n",
    "#Convert list of dictionaries to Dataframe\n",
    "df = pd.DataFrame(text_list, columns = ['title', 'review_url', 'review_text'])"
   ]
  },
  {
   "cell_type": "code",
   "execution_count": 4,
   "id": "6325aa90",
   "metadata": {},
   "outputs": [
    {
     "data": {
      "text/html": [
       "<div>\n",
       "<style scoped>\n",
       "    .dataframe tbody tr th:only-of-type {\n",
       "        vertical-align: middle;\n",
       "    }\n",
       "\n",
       "    .dataframe tbody tr th {\n",
       "        vertical-align: top;\n",
       "    }\n",
       "\n",
       "    .dataframe thead th {\n",
       "        text-align: right;\n",
       "    }\n",
       "</style>\n",
       "<table border=\"1\" class=\"dataframe\">\n",
       "  <thead>\n",
       "    <tr style=\"text-align: right;\">\n",
       "      <th></th>\n",
       "      <th>title</th>\n",
       "      <th>review_url</th>\n",
       "      <th>review_text</th>\n",
       "    </tr>\n",
       "  </thead>\n",
       "  <tbody>\n",
       "    <tr>\n",
       "      <th>0</th>\n",
       "      <td>Citizen Kane (1941)</td>\n",
       "      <td>http://www.rogerebert.com/reviews/great-movie-...</td>\n",
       "      <td>“I don't think any word can explain a man's li...</td>\n",
       "    </tr>\n",
       "    <tr>\n",
       "      <th>1</th>\n",
       "      <td>The Wizard of Oz (1939)</td>\n",
       "      <td>http://www.rogerebert.com/reviews/great-movie-...</td>\n",
       "      <td>As a child I simply did not notice whether a m...</td>\n",
       "    </tr>\n",
       "    <tr>\n",
       "      <th>2</th>\n",
       "      <td>The Third Man (1949)</td>\n",
       "      <td>http://www.rogerebert.com/reviews/great-movie-...</td>\n",
       "      <td>Has there ever been a film where the music mor...</td>\n",
       "    </tr>\n",
       "  </tbody>\n",
       "</table>\n",
       "</div>"
      ],
      "text/plain": [
       "                     title                                         review_url  \\\n",
       "0      Citizen Kane (1941)  http://www.rogerebert.com/reviews/great-movie-...   \n",
       "1  The Wizard of Oz (1939)  http://www.rogerebert.com/reviews/great-movie-...   \n",
       "2     The Third Man (1949)  http://www.rogerebert.com/reviews/great-movie-...   \n",
       "\n",
       "                                         review_text  \n",
       "0  “I don't think any word can explain a man's li...  \n",
       "1  As a child I simply did not notice whether a m...  \n",
       "2  Has there ever been a film where the music mor...  "
      ]
     },
     "execution_count": 4,
     "metadata": {},
     "output_type": "execute_result"
    }
   ],
   "source": [
    "#Print first few rows of the dataframe\n",
    "df.head()"
   ]
  }
 ],
 "metadata": {
  "kernelspec": {
   "display_name": "Python 3 (ipykernel)",
   "language": "python",
   "name": "python3"
  },
  "language_info": {
   "codemirror_mode": {
    "name": "ipython",
    "version": 3
   },
   "file_extension": ".py",
   "mimetype": "text/x-python",
   "name": "python",
   "nbconvert_exporter": "python",
   "pygments_lexer": "ipython3",
   "version": "3.10.13"
  }
 },
 "nbformat": 4,
 "nbformat_minor": 5
}
