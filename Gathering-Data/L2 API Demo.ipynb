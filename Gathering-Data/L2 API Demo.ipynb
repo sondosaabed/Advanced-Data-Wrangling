{
 "cells": [
  {
   "cell_type": "markdown",
   "id": "519734fb",
   "metadata": {},
   "source": [
    "## Option 1: use HTTP GET request"
   ]
  },
  {
   "cell_type": "code",
   "execution_count": 1,
   "id": "f82dfafe",
   "metadata": {},
   "outputs": [],
   "source": [
    "import requests\n",
    "import json"
   ]
  },
  {
   "cell_type": "code",
   "execution_count": 2,
   "id": "ce967b6f",
   "metadata": {},
   "outputs": [
    {
     "name": "stdout",
     "output_type": "stream",
     "text": [
      "<Response [200]>\n"
     ]
    }
   ],
   "source": [
    "book = requests.get(\"https://archive.org/metadata/cu31924067841738\")\n",
    "print(book)"
   ]
  },
  {
   "cell_type": "code",
   "execution_count": 3,
   "id": "aee89019",
   "metadata": {},
   "outputs": [],
   "source": [
    "book.raise_for_status()"
   ]
  },
  {
   "cell_type": "code",
   "execution_count": 4,
   "id": "01be0a20",
   "metadata": {},
   "outputs": [
    {
     "name": "stdout",
     "output_type": "stream",
     "text": [
      "{'created': 1718519194, 'd1': 'ia601304.us.archive.org', 'd2': 'ia801304.us.archive.org', 'dir': '/12/items/cu31924067841738', 'files': [{'name': '__ia_thumb.jpg', 'source': 'original', 'mtime': '1653667852', 'size': '19027', 'md5': '9e451931d5183c5fea9e1ff9710d3b30', 'crc32': 'b91c4379', 'sha1': '84f729b6118df1e60f1db3a75017b1312c7db959', 'format': 'Item Tile', 'rotation': '0'}, {'name': 'cu31924067841738.djvu', 'source': 'derivative', 'format': 'DjVu', 'original': 'cu31924067841738_djvu.xml', 'md5': '244b045ec10de46d78e140f6c13a86e2', 'mtime': '1257613982', 'size': '5933724', 'crc32': '38d9d914', 'sha1': '8c915daa0ed20788d60424ea536db6d38b7e254c'}, {'name': 'cu31924067841738.epub', 'source': 'derivative', 'original': 'cu31924067841738_abbyy.gz', 'mtime': '1700038661', 'size': '3639480', 'md5': '9eecc6e95791ef536c548abfd0fca9f3', 'crc32': '9e3a7aa1', 'sha1': '94ecf7bf5d63d3b3456979413c73d768d80e714e', 'format': 'EPUB'}, {'name': 'cu31924067841738.gif', 'source': 'derivative', 'format': 'Animated GIF', 'original': 'cu31924067841738_jp2.zip', 'md5': 'c2f8ed4eb8a7bac1b4d5f366f77fc2b7', 'mtime': '1257606177', 'size': '181251', 'crc32': '7cc44020', 'sha1': '8a7cdc15c57012451d7258892b4591b895e14baa'}, {'name': 'cu31924067841738.pdf', 'source': 'derivative', 'format': 'Text PDF', 'original': 'cu31924067841738_djvu.xml', 'md5': 'f505fad8976b81c43abb5b6799e7c83c', 'mtime': '1257615102', 'size': '8740882', 'crc32': '5021e9da', 'sha1': 'a0f45c625be0ea952888d8c3b4688d33a04de27a'}, {'name': 'cu31924067841738_abbyy.gz', 'source': 'derivative', 'format': 'Abbyy GZ', 'original': 'cu31924067841738_jp2.zip', 'md5': '3efcf4ac745a9916c9fdadbaf3608e0d', 'mtime': '1257612847', 'size': '10051941', 'crc32': 'fb9a6910', 'sha1': 'ab69d06516b5fcdd8b4dd1d76744d80c3b906393'}, {'name': 'cu31924067841738_archive.torrent', 'source': 'metadata', 'btih': 'dee940dd95d5c91f34c448574f61f587bf6d654b', 'mtime': '1700815016', 'size': '18255', 'md5': 'ae1041d346e5ea9dfc31d0c1115adb27', 'crc32': 'bf56b117', 'sha1': '0b59debff1f56a32042183bc4f5a1d9e44e67018', 'format': 'Archive BitTorrent'}, {'name': 'cu31924067841738_cubook.zip', 'source': 'original', 'format': 'Raw Cornell Book Zip', 'md5': '71a2a603a816a1781c4dd177f17a456c', 'mtime': '1234288026', 'size': '179443454', 'crc32': '437d7f99', 'sha1': '632d9de073f643893e5e2aae9daac9c7254a70a9', 'filecount': '1585'}, {'name': 'cu31924067841738_daisy.zip', 'source': 'derivative', 'original': 'cu31924067841738_abbyy.gz', 'mtime': '1700815006', 'size': '377129', 'md5': 'e906c490136ffc2efffe0a4ff5cb9e2b', 'crc32': '415094a9', 'sha1': 'f66e26c1e07177b29e8aa5d175d8229ea00f0f63', 'format': 'Daisy', 'filecount': '9'}, {'name': 'cu31924067841738_dc.xml', 'source': 'original', 'md5': '6ffc36703140a3f6e2f6db137c46fab3', 'format': 'Dublin Core', 'mtime': '1653667848', 'size': '980', 'crc32': '798f8d6d', 'sha1': '0de4f659180e38e646e54eeefbfce9c549c7c3be'}, {'name': 'cu31924067841738_djvu.txt', 'source': 'derivative', 'format': 'DjVuTXT', 'original': 'cu31924067841738.djvu', 'md5': 'e4acc7dd4c9412a22f25f6b4cc2520e4', 'mtime': '1257615119', 'size': '703987', 'crc32': 'c1754981', 'sha1': 'd69708e07a45f962cf9634f32eb508b126f725b0'}, {'name': 'cu31924067841738_djvu.xml', 'source': 'derivative', 'format': 'Djvu XML', 'original': 'cu31924067841738_abbyy.gz', 'md5': '019af0104f33fdc7742fb1ef27857385', 'mtime': '1257613185', 'size': '6732478', 'crc32': '5c2c3b7f', 'sha1': '515b41707ef2fefe62b93e857b9fc60a31d1ad3d'}, {'name': 'cu31924067841738_files.xml', 'source': 'original', 'format': 'Metadata', 'md5': '7f5aa9a3b478a0dfda2da46ff1c1c653', 'summation': 'md5'}, {'name': 'cu31924067841738_jp2.zip', 'source': 'derivative', 'format': 'Single Page Processed JP2 ZIP', 'original': 'cu31924067841738_cubook.zip', 'md5': '52eba22e5c37b8eef49b1238cbfc9d06', 'mtime': '1257606149', 'size': '157442730', 'crc32': 'ff3c0f90', 'sha1': '3bf7141251c812b3cb8051cc479fbdb7574755b5', 'filecount': '392'}, {'name': 'cu31924067841738_marc.xml', 'source': 'original', 'md5': 'c1611e30638599ae7a8f73c023f99ef1', 'format': 'MARC', 'mtime': '1208421494', 'size': '3208', 'crc32': '8b02c48e', 'sha1': 'ba6107c9a97775d48c60bc62c86ddc31d5d5d1eb'}, {'name': 'cu31924067841738_meta.mrc', 'source': 'original', 'md5': '2518a47671c0125257b19f13948258c6', 'format': 'MARC Binary', 'mtime': '1208421492', 'size': '875', 'crc32': '88e2f9e9', 'sha1': '9d17f959cd747c83671a84f9a981e3ebda0931d3'}, {'name': 'cu31924067841738_meta.xml', 'source': 'original', 'format': 'Metadata', 'mtime': '1653667850', 'size': '2146', 'md5': '919b6f25169424f743edae9bd88fa2e0', 'crc32': 'fd1ccbde', 'sha1': 'f6f8bdeda39bf03e9f35abd914bd025e934c3d3e'}, {'name': 'cu31924067841738_reviews.xml', 'source': 'original', 'mtime': '1661288060', 'size': '489', 'md5': '38abd158941b978ddf73611841a3e889', 'crc32': '2adfaaae', 'sha1': 'd56f3c4eef234a4e0c719708b450710950f798a0', 'format': 'Metadata'}, {'name': 'cu31924067841738_scandata.xml', 'source': 'derivative', 'format': 'Scandata', 'original': 'cu31924067841738_djvu.xml', 'md5': 'ffd644242913ee04f49345235b2435ff', 'mtime': '1257613198', 'size': '138830', 'crc32': 'd3a77e14', 'sha1': '22ff9f4a46443c82be468602c45d2accb9888079'}], 'files_count': 19, 'item_last_updated': 1700815016, 'item_size': 373430866, 'metadata': {'mediatype': 'texts', 'collection': ['cornell', 'americana'], 'title': 'The language of flowers; or flora symbolica. Including floral poetry, original and selected. With original illustrations, printed in colours by Terry', 'identifier': 'cu31924067841738', 'uploader': 'hank@archive.org', 'addeddate': '2009-11-01 15:20:02', 'identifier-access': 'http://www.archive.org/details/cu31924067841738', 'identifier-ark': 'ark:/13960/t4vh63v8d', 'sponsor': 'MSN', 'contributor': 'Cornell University Library', 'description': ['The metadata below describe the original scanning. Follow the \"All Files: HTTP\" link in the \"View the book\" box to the left to find XML files that contain more metadata about the original images and the derived formats (OCR results, PDF etc.). See also the <a href=\"http://www.archive.org/about/faqs.php#140\" rel=\"nofollow\">What is the directory structure for the texts?</a> FAQ for information about file content and naming conventions.', 'viii, 360 p. 20 cm'], 'camera': 'EOS-1Ds MarkII', 'lcamid': '338213', 'rcamid': '336718', 'operator': 'lbortle', 'scanner': 'Kirtas APT 2400', 'ppi': '300', 'creator': 'Ingram, John Henry, 1842-1916', 'publisher': 'London. New York. Frederick Warne and co.', 'date': '1887', 'subject': ['Plants', 'Flower language', 'Plants -- Folklore'], 'language': 'eng', 'imagecount': '392', 'bookplateleaf': '0003', 'ocr': 'ABBYY FineReader 8.0', 'scandate': '20080417085647', 'foldoutcount': '0', 'repub_state': '4', 'publicdate': '2009-11-07 17:32:07', 'filesxml': 'Wed Mar 17 13:34:24 UTC 2010', 'backup_location': 'ia903604_10', 'openlibrary_edition': 'OL24187210M', 'openlibrary_work': 'OL17078705W', 'oclc-id': '63540312'}, 'reviews': [{'reviewbody': 'This is a black and white only scan. Too bad. ', 'reviewtitle': 'No color illustrations here!', 'reviewer': 'prose', 'reviewdate': '2014-09-11 23:11:25', 'createdate': '2014-09-11 23:11:25', 'stars': '1'}], 'server': 'ia801304.us.archive.org', 'uniq': 1131751679, 'workable_servers': ['ia801304.us.archive.org', 'ia601304.us.archive.org']}\n"
     ]
    }
   ],
   "source": [
    "#Get the JSON\n",
    "json_data = book.json()\n",
    "print(json_data)"
   ]
  },
  {
   "cell_type": "code",
   "execution_count": 5,
   "id": "1d0549e3",
   "metadata": {},
   "outputs": [],
   "source": [
    "with open('book.json', 'w') as f:\n",
    "    json.dump(json_data, f)"
   ]
  },
  {
   "cell_type": "markdown",
   "id": "f519542f",
   "metadata": {},
   "source": [
    "## Option 2: use customized developer libraries"
   ]
  },
  {
   "cell_type": "markdown",
   "id": "58bc17a2",
   "metadata": {},
   "source": [
    "**Note:** `interectarchive` libary is not installed in the workspace so the code below won't run successfully. The code is for demonstration purpose only."
   ]
  },
  {
   "cell_type": "code",
   "execution_count": 7,
   "id": "ac583ae8",
   "metadata": {},
   "outputs": [
    {
     "name": "stdout",
     "output_type": "stream",
     "text": [
      "Item(identifier='cu31924067841738')\n"
     ]
    }
   ],
   "source": [
    "from internetarchive import get_item \n",
    "\n",
    "book = get_item('cu31924067841738')\n",
    "print(book)"
   ]
  },
  {
   "cell_type": "code",
   "execution_count": 8,
   "id": "13aeec27",
   "metadata": {},
   "outputs": [
    {
     "name": "stdout",
     "output_type": "stream",
     "text": [
      "mediatype : texts\n",
      "collection : ['cornell', 'americana']\n",
      "title : The language of flowers; or flora symbolica. Including floral poetry, original and selected. With original illustrations, printed in colours by Terry\n",
      "identifier : cu31924067841738\n",
      "uploader : hank@archive.org\n",
      "addeddate : 2009-11-01 15:20:02\n",
      "identifier-access : http://www.archive.org/details/cu31924067841738\n",
      "identifier-ark : ark:/13960/t4vh63v8d\n",
      "sponsor : MSN\n",
      "contributor : Cornell University Library\n",
      "description : ['The metadata below describe the original scanning. Follow the \"All Files: HTTP\" link in the \"View the book\" box to the left to find XML files that contain more metadata about the original images and the derived formats (OCR results, PDF etc.). See also the <a href=\"http://www.archive.org/about/faqs.php#140\" rel=\"nofollow\">What is the directory structure for the texts?</a> FAQ for information about file content and naming conventions.', 'viii, 360 p. 20 cm']\n",
      "camera : EOS-1Ds MarkII\n",
      "lcamid : 338213\n",
      "rcamid : 336718\n",
      "operator : lbortle\n",
      "scanner : Kirtas APT 2400\n",
      "ppi : 300\n",
      "creator : Ingram, John Henry, 1842-1916\n",
      "publisher : London. New York. Frederick Warne and co.\n",
      "date : 1887\n",
      "subject : ['Plants', 'Flower language', 'Plants -- Folklore']\n",
      "language : eng\n",
      "imagecount : 392\n",
      "bookplateleaf : 0003\n",
      "ocr : ABBYY FineReader 8.0\n",
      "scandate : 20080417085647\n",
      "foldoutcount : 0\n",
      "repub_state : 4\n",
      "publicdate : 2009-11-07 17:32:07\n",
      "filesxml : Wed Mar 17 13:34:24 UTC 2010\n",
      "backup_location : ia903604_10\n",
      "openlibrary_edition : OL24187210M\n",
      "openlibrary_work : OL17078705W\n",
      "oclc-id : 63540312\n"
     ]
    }
   ],
   "source": [
    "for k,v in book.metadata.items():\n",
    "    print(k,\":\",v)"
   ]
  }
 ],
 "metadata": {
  "kernelspec": {
   "display_name": "Python 3 (ipykernel)",
   "language": "python",
   "name": "python3"
  },
  "language_info": {
   "codemirror_mode": {
    "name": "ipython",
    "version": 3
   },
   "file_extension": ".py",
   "mimetype": "text/x-python",
   "name": "python",
   "nbconvert_exporter": "python",
   "pygments_lexer": "ipython3",
   "version": "3.11.0"
  }
 },
 "nbformat": 4,
 "nbformat_minor": 5
}
