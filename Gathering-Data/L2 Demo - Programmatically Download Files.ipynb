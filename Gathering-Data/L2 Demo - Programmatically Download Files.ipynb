{
 "cells": [
  {
   "cell_type": "code",
   "execution_count": 1,
   "id": "b273a857",
   "metadata": {},
   "outputs": [],
   "source": [
    "import requests\n",
    "import os"
   ]
  },
  {
   "cell_type": "code",
   "execution_count": 2,
   "id": "db9d1c32",
   "metadata": {},
   "outputs": [],
   "source": [
    "# Make directory if it doesn't already exist\n",
    "folder_name = 'ebert_reviews_2017'\n",
    "if not os.path.exists(folder_name):\n",
    "    os.makedirs(folder_name)"
   ]
  },
  {
   "cell_type": "code",
   "execution_count": 3,
   "id": "69189abd",
   "metadata": {},
   "outputs": [],
   "source": [
    "ebert_review_urls = ['https://d17h27t6h515a5.cloudfront.net/topher/2017/September/59ad9900_1-the-wizard-of-oz-1939-film/1-the-wizard-of-oz-1939-film.txt',\n",
    "                     'https://d17h27t6h515a5.cloudfront.net/topher/2017/September/59ad9901_2-citizen-kane/2-citizen-kane.txt',\n",
    "                     'https://d17h27t6h515a5.cloudfront.net/topher/2017/September/59ad9901_3-the-third-man/3-the-third-man.txt',\n",
    "                     'https://d17h27t6h515a5.cloudfront.net/topher/2017/SeptemberBumblebee/59ad9901_3-the-third-man/3-the-third-man.txt']"
   ]
  },
  {
   "cell_type": "code",
   "execution_count": 4,
   "id": "1cc5a300",
   "metadata": {
    "scrolled": false
   },
   "outputs": [
    {
     "name": "stdout",
     "output_type": "stream",
     "text": [
      "ebert_reviews_2017/1-the-wizard-of-oz-1939-film.txt\n",
      "ebert_reviews_2017/2-citizen-kane.txt\n",
      "ebert_reviews_2017/3-the-third-man.txt\n"
     ]
    },
    {
     "ename": "HTTPError",
     "evalue": "403 Client Error: Forbidden for url: https://d17h27t6h515a5.cloudfront.net/topher/2017/SeptemberBumblebee/59ad9901_3-the-third-man/3-the-third-man.txt",
     "output_type": "error",
     "traceback": [
      "\u001b[0;31m---------------------------------------------------------------------------\u001b[0m",
      "\u001b[0;31mHTTPError\u001b[0m                                 Traceback (most recent call last)",
      "Cell \u001b[0;32mIn[4], line 5\u001b[0m\n\u001b[1;32m      3\u001b[0m response \u001b[38;5;241m=\u001b[39m requests\u001b[38;5;241m.\u001b[39mget(url)\n\u001b[1;32m      4\u001b[0m \u001b[38;5;66;03m#Raise an exception if we made a request resulting in an error\u001b[39;00m\n\u001b[0;32m----> 5\u001b[0m \u001b[43mresponse\u001b[49m\u001b[38;5;241;43m.\u001b[39;49m\u001b[43mraise_for_status\u001b[49m\u001b[43m(\u001b[49m\u001b[43m)\u001b[49m\n\u001b[1;32m      6\u001b[0m \u001b[38;5;66;03m#Define the filepath by incorporating the folder_name and the last part of the url\u001b[39;00m\n\u001b[1;32m      7\u001b[0m file_path \u001b[38;5;241m=\u001b[39m os\u001b[38;5;241m.\u001b[39mpath\u001b[38;5;241m.\u001b[39mjoin(folder_name, url\u001b[38;5;241m.\u001b[39msplit(\u001b[38;5;124m'\u001b[39m\u001b[38;5;124m/\u001b[39m\u001b[38;5;124m'\u001b[39m)[\u001b[38;5;241m-\u001b[39m\u001b[38;5;241m1\u001b[39m])\n",
      "File \u001b[0;32m/opt/venv/lib/python3.10/site-packages/requests/models.py:1021\u001b[0m, in \u001b[0;36mResponse.raise_for_status\u001b[0;34m(self)\u001b[0m\n\u001b[1;32m   1016\u001b[0m     http_error_msg \u001b[38;5;241m=\u001b[39m (\n\u001b[1;32m   1017\u001b[0m         \u001b[38;5;124mf\u001b[39m\u001b[38;5;124m\"\u001b[39m\u001b[38;5;132;01m{\u001b[39;00m\u001b[38;5;28mself\u001b[39m\u001b[38;5;241m.\u001b[39mstatus_code\u001b[38;5;132;01m}\u001b[39;00m\u001b[38;5;124m Server Error: \u001b[39m\u001b[38;5;132;01m{\u001b[39;00mreason\u001b[38;5;132;01m}\u001b[39;00m\u001b[38;5;124m for url: \u001b[39m\u001b[38;5;132;01m{\u001b[39;00m\u001b[38;5;28mself\u001b[39m\u001b[38;5;241m.\u001b[39murl\u001b[38;5;132;01m}\u001b[39;00m\u001b[38;5;124m\"\u001b[39m\n\u001b[1;32m   1018\u001b[0m     )\n\u001b[1;32m   1020\u001b[0m \u001b[38;5;28;01mif\u001b[39;00m http_error_msg:\n\u001b[0;32m-> 1021\u001b[0m     \u001b[38;5;28;01mraise\u001b[39;00m HTTPError(http_error_msg, response\u001b[38;5;241m=\u001b[39m\u001b[38;5;28mself\u001b[39m)\n",
      "\u001b[0;31mHTTPError\u001b[0m: 403 Client Error: Forbidden for url: https://d17h27t6h515a5.cloudfront.net/topher/2017/SeptemberBumblebee/59ad9901_3-the-third-man/3-the-third-man.txt"
     ]
    }
   ],
   "source": [
    "for url in ebert_review_urls:\n",
    "    #Create an HTTP GET request for Ebert reviews\n",
    "    response = requests.get(url)\n",
    "    #Raise an exception if we made a request resulting in an error\n",
    "    response.raise_for_status()\n",
    "    #Define the filepath by incorporating the folder_name and the last part of the url\n",
    "    file_path = os.path.join(folder_name, url.split('/')[-1])\n",
    "    print(file_path)\n",
    "    #Writing in binary mode\n",
    "    with open(file_path, mode = 'wb') as file:\n",
    "        file.write(response.content)"
   ]
  },
  {
   "cell_type": "code",
   "execution_count": 5,
   "id": "a0cbbe97",
   "metadata": {},
   "outputs": [
    {
     "data": {
      "text/plain": [
       "['2-citizen-kane.txt',\n",
       " '1-the-wizard-of-oz-1939-film.txt',\n",
       " '3-the-third-man.txt']"
      ]
     },
     "execution_count": 5,
     "metadata": {},
     "output_type": "execute_result"
    }
   ],
   "source": [
    "os.listdir(folder_name)"
   ]
  },
  {
   "cell_type": "code",
   "execution_count": null,
   "id": "326aa5fd",
   "metadata": {},
   "outputs": [],
   "source": [
    "# %load ebert_reviews_2017/3-the-third-man.txt\n",
    "The Third Man (1949)\n",
    "http://www.rogerebert.com/reviews/great-movie-the-third-man-1949\n",
    "Has there ever been a film where the music more perfectly suited the action than in Carol Reed's \"The Third Man\"? The score was performed on a zither by Anton Karas, who was playing in a Vienna beerhouse one night when Reed heard him. The sound is jaunty but without joy, like whistling in the dark. It sets the tone; the action begins like an undergraduate lark and then reveals vicious undertones.\n",
    "\n",
    "The story begins with a spoken prologue (\"I never knew the old Vienna, before the war. . .\"). The shattered postwar city has been divided into French, American, British and Russian zones, each with its own cadre of suspicious officials. Into this sinkhole of intrigue falls an American innocent: Holly Martins (Joseph Cotton), alcoholic author of pulp Westerns. He has come at the invitation of his college chum Harry Lime. But Lime is being buried when Martins arrives in Vienna.\n",
    "\n",
    "How did Lime die? That question is the engine that drives the plot, as Martins plunges into the murk that Lime left behind. Calloway (Trevor Howard), the British officer in charge, bluntly says Lime was an evil man, and advises Holly to take the next train home. But Harry had a girl named Anna (Alida Valli), who Holly sees at Lime's grave, and perhaps she has some answers. Certainly Holly has fallen in love with her, although his trusting Yankee heart is no match for her defenses.\n",
    "\n",
    "\"The Third Man\" (1949) was made by men who knew the devastation of Europe at first hand. Carol Reed worked for the British Army's wartime documentary unit, and the screenplay was by Graham Greene, who not only wrote about spies but occasionally acted as one. Reed fought with David O. Selznick, his American producer, over every detail of the movie; Selznick wanted to shoot on sets, use an upbeat score and cast Noel Coward as Harry Lime. His film would have been forgotten in a week. Reed defied convention by shooting entirely on location in Vienna, where mountains of rubble stood next to gaping bomb craters, and the ruins of empire supported a desperate black market economy. And he insisted on Karas' zither music (\"The Third Man Theme\" was one of 1950's biggest hits).\n",
    "\n",
    "Reed and his Academy Award-winning cinematographer, Robert Krasker, also devised a reckless, unforgettable visual style. More shots, I suspect, are tilted than are held straight; they suggest a world out of joint. There are fantastic oblique angles. Wide-angle lenses distort faces and locations. And the bizarre lighting makes the city into an expressionist nightmare. (During a stakeout for Lime, a little balloon man wanders onto the scene, and his shadow is a monster three stories high). Vienna in \"The Third Man\" is a more particular and unmistakable *place* than almost any other location in the history of the movies; the action fits the city like a hand slipping on a glove.\n",
    "\n",
    "Then there are the faces: Joseph Cotton's open, naive face contrasts with the \"friends\" of Harry Lime: the corrupt \"Baron\" Kurtz (Ernst Deutsch); the shifty Dr. Winkel (Erich Ponto), the ratlike Popescu (Siegfried Breuer). Even a little boy with a rubber ball looks like a wizened imp. The only trusting faces are those of innocents like the hall porter (Paul Hoerbiger) who tells Holly, \"There was another man . . . a third man. . .\" and the beefy Sgt. Paine (Bernard Lee), Calloway's aide, who levels the drunken Holly with a shot to the chin and then apologizes. Even the resident exiles are corrupt; Crabbin (Wilfrid Hyde-White), the head of the discussion group, chatters about culture while smoothly maneuvering his mistress out of sight through doors and up stairs.\n",
    "\n",
    "As for Harry Lime: He allows Orson Welles to make the most famous entrance in the history of the movies, and one of the most famous speeches. By the time Lime finally appears we have almost forgotten Welles is even *in* the movie. The sequence is unforgettable: the meow of the cat in the doorway, the big shoes, the defiant challenge by Holly, the light in the window, and then the shot, pushing in, on Lime's face, enigmatic and teasing, as if two college chums had been caught playing a naughty prank.\n",
    "\n",
    "The famous speech comes during an uneasy ride on a giant Ferris wheel; at one point, Lime slides open the door of the car they are riding in, and Holly uneasily wraps an arm around a post. Harry tries to justify himself: \"You know what the fellow said: In Italy for 30 years under the Borgias they had warfare, terror, murder and bloodshed, but they produced Michelangelo, Leonardo da Vinci and the Renaissance. In Switzerland they had brotherly love--they had 500 years of democracy and peace, and what did that produce? The cuckoo clock.\" (Greene says this speech was written by Welles.)\n",
    "\n",
    "The emotional heart of the movie is Holly's infatuation with Anna, who will love Harry and be grateful to him no matter what she learns. The scenes between Holly and Anna are enriched by tiny details, as when they visit Harry's apartment and she opens a drawer without looking--because she already knows what will be inside. Or the way she sometimes slips and calls Holly \"Harry.\" Everyone in the movie has trouble with names. Holly calls Calloway \"Callahan,\" and Dr. Winkle insists on \"VINK-ell!\" And the name on Harry Lime's tombstone is wrong, too.\n",
    "\n",
    "The chase sequence in \"The Third Man\" is another joining of the right action with the right location. Harry escapes into the sewer system like a cornered rat, and Reed edits the pursuit into long, echoing, empty sewer vistas, and closeups of Lime's sweaty face, his eyes darting for a way out. Presumably there would be no lights in the Vienna sewers, but there are strong light sources just out of sight behind every corner, throwing elongated shadows, backlighting Harry and his pursuers.\n",
    "\n",
    "The final scene in \"The Third Man\" is a long, elegiac sigh. It almost did not exist. Selznick and Greene originally wanted a happy ending. (Greene originally wrote, \". . . her hand was through his arm\"). Reed convinced Greene he was wrong. The movie ends as it begins, in a cemetery, and then Calloway gives Holly a ride back to town. They pass Anna walking on the roadside. Holly asks to be let out of the jeep. He stands under a tree, waiting for her. She walks toward him, past him, and then out of frame, never looking. After a long pause, Holly lights a cigarette and wearily throws away the match. Joseph Cotten recalled later that he thought the scene would end sooner. But Reed kept the camera running, making it an unusually long shot, and absolutely perfect.\n",
    "\n",
    "\"The Third Man\" reflects the optimism of Americans and the bone-weariness of Europe after the war. It's a story about grownups and children: Adults like Calloway, who has seen at first hand the results of Lime's crimes, and children like the trusting Holly, who believes in the simplified good and evil of his Western novels.\n",
    "\n",
    "\"The Third Man\" is like the exhausted aftermath of \"Casablanca.\" Both have heroes who are American exiles, awash in a world of treachery and black market intrigue. Both heroes love a woman battered by the war. But \"Casablanca\" is bathed in the hope of victory, while \"The Third Man\" already reflects the Cold War years of paranoia, betrayal and the Bomb. The hero doesn't get the girl in either movie--but in \"Casablanca,\" Ilsa stays with the resistance leader to help in his fight, while in \"The Third Man\" Anna remains loyal to a rat. Yet Harry Lime saved Anna, a displaced person who faced certain death. Holly will never understand what Anna did to survive the war, and Anna has absolutely no desire to tell him.\n",
    "\n",
    "Of all the movies I have seen, this one most completely embodies the romance of going to the movies. I saw it first on a rainy day in a tiny, smoke-filled cinema on the Left Bank in Paris. It told a story of existential loss and betrayal. It was weary and knowing, and its glorious style was an act of defiance against the corrupt world it pictured. Seeing it, I realized how many Hollywood movies were like the pulp Westerns that Holly Martins wrote: naive formulas supplying happy endings for passive consumption. I read the other day that they plan to remake \"The Third Man.\" Do you think Anna will cave in to Holly--or will she remain true to her bitter cynicism and unspeakable knowledge?"
   ]
  }
 ],
 "metadata": {
  "kernelspec": {
   "display_name": "Python 3 (ipykernel)",
   "language": "python",
   "name": "python3"
  },
  "language_info": {
   "codemirror_mode": {
    "name": "ipython",
    "version": 3
   },
   "file_extension": ".py",
   "mimetype": "text/x-python",
   "name": "python",
   "nbconvert_exporter": "python",
   "pygments_lexer": "ipython3",
   "version": "3.10.13"
  }
 },
 "nbformat": 4,
 "nbformat_minor": 5
}
