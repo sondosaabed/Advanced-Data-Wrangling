{
 "cells": [
  {
   "cell_type": "markdown",
   "metadata": {},
   "source": [
    "### New Terms\n",
    "\n",
    "- **Raw Data:** Data that has been gathered and not yet assessed and cleaned.\n",
    "- **Data Wrangling:** Data wrangling is a set of processes for turning raw and messy data into a clean format to answer interesting questions.\n",
    "- **Exploratory Data Analysis (EDA):** The process of exploring data and creating visualizations, like bar and scatter plots.\n",
    "- **Extract Transform and Load (ETL):** A systematic process that IT teams often follow to gather and combine data from different sources into a central repository called a data warehouse."
   ]
  },
  {
   "cell_type": "markdown",
   "metadata": {},
   "source": [
    "![screen-shot-2023-06-07-at-10 01 42-am](https://github.com/sondosaabed/Advanced-Data-Wrangling/assets/65151701/98b4629e-1780-46c7-933b-d993a9d39afb)"
   ]
  },
  {
   "cell_type": "markdown",
   "metadata": {},
   "source": [
    "## Summary\n",
    "\n",
    "We just walked through a real-life example of how a data analyst would approach a complicated use case by implementing the following steps:\n",
    "\n",
    "### Step 1: Defining a question\n",
    "Here we define a question or set of questions around why we need data and the problem we're trying to solve. Examples of questions we can define:\n",
    "\n",
    "- \"What is the highest dose of the drug that is safe?\"\n",
    "- \"How did drought affect this particular location?\"\n",
    "- \"Why are developer preferences around this tool changing?\n",
    "\n",
    "### Step 2: Gathering data\n",
    "Data is gathered from multiple data sources (e.g., hospital equipment, handwritten notes) and often needs to be consolidated and transformed into a consistent format, like a .csv file.\n",
    "\n",
    "### Step 3: Assessing the data\n",
    "In this stage, data analysts will assess their data for issues, like missing data for a week or inaccurate values, such as a patient's weight being incorrectly reported.\n",
    "\n",
    "### Step 4: Cleaning the data\n",
    "Data analysts will then clean the data based on the issues reported in Step 3, such as by removing missing values and adjusting inaccurate values to be correct.\n",
    "\n",
    "### Step 5: Answering the question\n",
    "The final step involves answering the question raised in Step 1 (e.g., \"The highest dosage is xyz\")."
   ]
  },
  {
   "cell_type": "markdown",
   "metadata": {},
   "source": [
    "![l1 -intro](https://github.com/sondosaabed/Advanced-Data-Wrangling/assets/65151701/c0ca0734-3942-43eb-b4d3-b58cb9101526)"
   ]
  }
 ],
 "metadata": {
  "language_info": {
   "name": "python"
  }
 },
 "nbformat": 4,
 "nbformat_minor": 2
}
