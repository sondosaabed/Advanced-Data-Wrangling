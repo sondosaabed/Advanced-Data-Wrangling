{
 "cells": [
  {
   "cell_type": "markdown",
   "metadata": {},
   "source": [
    "## Objectives\n",
    "- Identify the data cleaning phase and each stage from an expert’s perspective.\n",
    "- Implement solutions for common data structure issues programmatically\n",
    "- Implement cleaning for dirty and messy data with Python for tabular data, time series, and text data.\n",
    "- Implement visual and programmatic testing\n",
    "- Store cleaned data"
   ]
  }
 ],
 "metadata": {
  "language_info": {
   "name": "python"
  }
 },
 "nbformat": 4,
 "nbformat_minor": 2
}
