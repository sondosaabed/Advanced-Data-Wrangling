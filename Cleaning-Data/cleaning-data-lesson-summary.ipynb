{
 "cells": [
  {
   "cell_type": "markdown",
   "metadata": {},
   "source": [
    "## Objectives\n",
    "- Identify the data cleaning phase and each stage from an expert’s perspective.\n",
    "- Implement solutions for common data structure issues programmatically\n",
    "- Implement cleaning for dirty and messy data with Python for tabular data, time series, and text data.\n",
    "- Implement visual and programmatic testing\n",
    "- Store cleaned data"
   ]
  },
  {
   "cell_type": "markdown",
   "metadata": {},
   "source": [
    "## Manual vs. programmatic cleaning\n",
    "\n",
    "Programmatic data cleaning is faster, more efficient, and a better fit for reproducible data wrangling workflows than manual data cleaning. Data wrangling takes tremendous time for the data professional, so programmatic data cleaning is strongly preferred compared to the manual process.\n",
    "The Data Cleaning Process\n",
    "\n",
    "Programmatic data cleaning has three steps:\n",
    "\n",
    "- Define: write a data cleaning plan by converting your assessments into cleaning tasks.\n",
    "- Code: translate the data cleaning plan to code and run it to clean the data.\n",
    "- Test: test the dataset, often using code, to ensure the cleaning code works and revisit some of the elements from the assessment phase."
   ]
  },
  {
   "cell_type": "markdown",
   "metadata": {},
   "source": [
    "- Make a copy using `.copy()` for the cleaning is a best practice."
   ]
  },
  {
   "cell_type": "markdown",
   "metadata": {},
   "source": [
    "## Structuring issues and fixing them\n",
    "\n",
    "Let's recap the data structuring issues and remediation techniques:\n",
    "Issue: Column headers are values, not variable names\n",
    "- Use **unpivoting** or melting to convert a wide dataset (with many columns) into a long format (with fewer columns and more rows).\n",
    "- Use **transposing** to switch rows with columns and columns with rows.\n",
    "\n",
    "Issue: Get a clearer understanding of the groupings in data.\n",
    "- Use **pivoting** to convert a long dataset into a wide dataset and create useful groupings.\n",
    "- Use **group-by and aggregations** to group categorical data together and aggregate the values associated with them like a sum or a mean.\n",
    "\n",
    "Issue: A single observational unit is stored in multiple tables\n",
    "- Use **merging** to combine multiple data tables into a single table with all of the required information\n",
    "- Use **appending or concatenating** on two tables with the same variables and add the data points from one table to another table"
   ]
  },
  {
   "cell_type": "markdown",
   "metadata": {},
   "source": []
  }
 ],
 "metadata": {
  "language_info": {
   "name": "python"
  }
 },
 "nbformat": 4,
 "nbformat_minor": 2
}
