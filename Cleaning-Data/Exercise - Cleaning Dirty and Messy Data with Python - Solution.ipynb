{
 "cells": [
  {
   "cell_type": "markdown",
   "id": "cd4d76d6",
   "metadata": {},
   "source": [
    "# Cleaning Dirty and Messy Data with Python"
   ]
  },
  {
   "cell_type": "markdown",
   "id": "695eae32",
   "metadata": {},
   "source": [
    "In this exercise, you will solve a few problems applying the methods you learned to clean dirty and messy data with Python. \n",
    "\n",
    "We will be considering a small hypothetical dataset of time series data being reported from pressure sensors on a manufacturing floor (that was post-processed) below."
   ]
  },
  {
   "cell_type": "code",
   "execution_count": 1,
   "id": "7072b20c",
   "metadata": {},
   "outputs": [],
   "source": [
    "#Imports - DO NOT MODIFY\n",
    "import pandas as pd\n",
    "import numpy as np"
   ]
  },
  {
   "cell_type": "markdown",
   "id": "0cf7a13e",
   "metadata": {},
   "source": [
    "## Dataset Context\n",
    "\n",
    "Details of the data:\n",
    "\n",
    "- The sensor location indicates the location where the sensor is placed and the system (A, B) it corresponds to (e.g. Entry A).\n",
    "- The dates indicates the days where data was collected from the sensors (e.g. 1/5/2023).\n",
    "- The numeric values indicate the pressure sensors' measurements (ranging from 0-25 bar)"
   ]
  },
  {
   "cell_type": "code",
   "execution_count": 2,
   "id": "31876369",
   "metadata": {},
   "outputs": [],
   "source": [
    "#FILL IN - Read in pressure_sensor_data.tsv into a pandas dataframe\n",
    "df = pd.read_csv('pressure_sensor_data.tsv', sep='\\t')"
   ]
  },
  {
   "cell_type": "code",
   "execution_count": 3,
   "id": "27412733",
   "metadata": {},
   "outputs": [
    {
     "data": {
      "text/html": [
       "<div>\n",
       "<style scoped>\n",
       "    .dataframe tbody tr th:only-of-type {\n",
       "        vertical-align: middle;\n",
       "    }\n",
       "\n",
       "    .dataframe tbody tr th {\n",
       "        vertical-align: top;\n",
       "    }\n",
       "\n",
       "    .dataframe thead th {\n",
       "        text-align: right;\n",
       "    }\n",
       "</style>\n",
       "<table border=\"1\" class=\"dataframe\">\n",
       "  <thead>\n",
       "    <tr style=\"text-align: right;\">\n",
       "      <th></th>\n",
       "      <th>Sensor Location</th>\n",
       "      <th>1/5/2023</th>\n",
       "      <th>1/6/2023</th>\n",
       "      <th>1/18/2023</th>\n",
       "      <th>1/28/2023</th>\n",
       "      <th>2/6/2023</th>\n",
       "      <th>2/7/2023</th>\n",
       "      <th>2/9/2023</th>\n",
       "      <th>2/28/2023</th>\n",
       "    </tr>\n",
       "  </thead>\n",
       "  <tbody>\n",
       "    <tr>\n",
       "      <th>0</th>\n",
       "      <td>Entry A</td>\n",
       "      <td>29.0</td>\n",
       "      <td>37.0</td>\n",
       "      <td>NaN</td>\n",
       "      <td>NaN</td>\n",
       "      <td>23.0</td>\n",
       "      <td>16.0</td>\n",
       "      <td>13.0</td>\n",
       "      <td>NaN</td>\n",
       "    </tr>\n",
       "    <tr>\n",
       "      <th>1</th>\n",
       "      <td>Area A</td>\n",
       "      <td>0.0</td>\n",
       "      <td>11.0</td>\n",
       "      <td>14.0</td>\n",
       "      <td>2.0</td>\n",
       "      <td>11.0</td>\n",
       "      <td>4.0</td>\n",
       "      <td>15.0</td>\n",
       "      <td>15.0</td>\n",
       "    </tr>\n",
       "    <tr>\n",
       "      <th>2</th>\n",
       "      <td>Area B</td>\n",
       "      <td>NaN</td>\n",
       "      <td>28.0</td>\n",
       "      <td>0.0</td>\n",
       "      <td>21.0</td>\n",
       "      <td>19.0</td>\n",
       "      <td>23.0</td>\n",
       "      <td>6.0</td>\n",
       "      <td>16.0</td>\n",
       "    </tr>\n",
       "    <tr>\n",
       "      <th>3</th>\n",
       "      <td>Entry A</td>\n",
       "      <td>6.0</td>\n",
       "      <td>NaN</td>\n",
       "      <td>4.0</td>\n",
       "      <td>5.0</td>\n",
       "      <td>NaN</td>\n",
       "      <td>NaN</td>\n",
       "      <td>11.0</td>\n",
       "      <td>3.0</td>\n",
       "    </tr>\n",
       "    <tr>\n",
       "      <th>4</th>\n",
       "      <td>Exit A</td>\n",
       "      <td>33.0</td>\n",
       "      <td>7.0</td>\n",
       "      <td>2.0</td>\n",
       "      <td>22.0</td>\n",
       "      <td>23.0</td>\n",
       "      <td>11.0</td>\n",
       "      <td>NaN</td>\n",
       "      <td>13.0</td>\n",
       "    </tr>\n",
       "  </tbody>\n",
       "</table>\n",
       "</div>"
      ],
      "text/plain": [
       "  Sensor Location  1/5/2023  1/6/2023  1/18/2023  1/28/2023  2/6/2023  \\\n",
       "0         Entry A      29.0      37.0        NaN        NaN      23.0   \n",
       "1          Area A       0.0      11.0       14.0        2.0      11.0   \n",
       "2          Area B       NaN      28.0        0.0       21.0      19.0   \n",
       "3         Entry A       6.0       NaN        4.0        5.0       NaN   \n",
       "4          Exit A      33.0       7.0        2.0       22.0      23.0   \n",
       "\n",
       "   2/7/2023  2/9/2023  2/28/2023  \n",
       "0      16.0      13.0        NaN  \n",
       "1       4.0      15.0       15.0  \n",
       "2      23.0       6.0       16.0  \n",
       "3       NaN      11.0        3.0  \n",
       "4      11.0       NaN       13.0  "
      ]
     },
     "execution_count": 3,
     "metadata": {},
     "output_type": "execute_result"
    }
   ],
   "source": [
    "df.head()"
   ]
  },
  {
   "cell_type": "markdown",
   "id": "c0374d2f",
   "metadata": {},
   "source": [
    "## 1.  Tidiness Issue:  Column Headers are values, not variable names\n",
    "\n",
    "Use `pd.melt()` to ensure the column headers are no longer values and are instead variable names. Ensure the columns are named informatively when calling `pd.melt()` based on the values they represent.\n",
    "\n",
    "Your result should have three variables (columns): `Sensor Location`, `Date`, `Pressure`."
   ]
  },
  {
   "cell_type": "code",
   "execution_count": 4,
   "id": "9c121a9a",
   "metadata": {},
   "outputs": [
    {
     "data": {
      "text/html": [
       "<div>\n",
       "<style scoped>\n",
       "    .dataframe tbody tr th:only-of-type {\n",
       "        vertical-align: middle;\n",
       "    }\n",
       "\n",
       "    .dataframe tbody tr th {\n",
       "        vertical-align: top;\n",
       "    }\n",
       "\n",
       "    .dataframe thead th {\n",
       "        text-align: right;\n",
       "    }\n",
       "</style>\n",
       "<table border=\"1\" class=\"dataframe\">\n",
       "  <thead>\n",
       "    <tr style=\"text-align: right;\">\n",
       "      <th></th>\n",
       "      <th>Sensor Location</th>\n",
       "      <th>Date</th>\n",
       "      <th>Pressure</th>\n",
       "    </tr>\n",
       "  </thead>\n",
       "  <tbody>\n",
       "    <tr>\n",
       "      <th>0</th>\n",
       "      <td>Entry A</td>\n",
       "      <td>1/5/2023</td>\n",
       "      <td>29.0</td>\n",
       "    </tr>\n",
       "    <tr>\n",
       "      <th>1</th>\n",
       "      <td>Area A</td>\n",
       "      <td>1/5/2023</td>\n",
       "      <td>0.0</td>\n",
       "    </tr>\n",
       "    <tr>\n",
       "      <th>2</th>\n",
       "      <td>Area B</td>\n",
       "      <td>1/5/2023</td>\n",
       "      <td>NaN</td>\n",
       "    </tr>\n",
       "    <tr>\n",
       "      <th>3</th>\n",
       "      <td>Entry A</td>\n",
       "      <td>1/5/2023</td>\n",
       "      <td>6.0</td>\n",
       "    </tr>\n",
       "    <tr>\n",
       "      <th>4</th>\n",
       "      <td>Exit A</td>\n",
       "      <td>1/5/2023</td>\n",
       "      <td>33.0</td>\n",
       "    </tr>\n",
       "  </tbody>\n",
       "</table>\n",
       "</div>"
      ],
      "text/plain": [
       "  Sensor Location      Date  Pressure\n",
       "0         Entry A  1/5/2023      29.0\n",
       "1          Area A  1/5/2023       0.0\n",
       "2          Area B  1/5/2023       NaN\n",
       "3         Entry A  1/5/2023       6.0\n",
       "4          Exit A  1/5/2023      33.0"
      ]
     },
     "execution_count": 4,
     "metadata": {},
     "output_type": "execute_result"
    }
   ],
   "source": [
    "##FILL IN  - use .melt() to solve the tidiness issue\n",
    "updated_df = df.melt(id_vars='Sensor Location', var_name='Date', value_name='Pressure')\n",
    "#Show the first few rows of the dataframe\n",
    "updated_df.head()"
   ]
  },
  {
   "cell_type": "markdown",
   "id": "c79809ac",
   "metadata": {},
   "source": [
    "## 2. Tidiness Issue: Multiple variables stored in one column\n",
    "\n",
    "The `Sensor Location` column violates one of the guidelines of tidiness - multiple variables being stored in column. Use the updated data from step 1 to identify why and resolve thie issue.\n",
    "\n",
    "*Hint:* Consider using the `str.split(expand=True)` functionality since the sensor location and system data is separated by a space (e.g., \"Entry A\")"
   ]
  },
  {
   "cell_type": "markdown",
   "id": "af22ef11",
   "metadata": {},
   "source": [
    "*FILL IN - how are multiple variables being stored in the `Sensor Location` column?*\n",
    "\n",
    "The column includes both the sensor location and the system it corresponds to. This information can be seperated into two columns."
   ]
  },
  {
   "cell_type": "code",
   "execution_count": 5,
   "id": "e675dc99",
   "metadata": {},
   "outputs": [
    {
     "data": {
      "text/html": [
       "<div>\n",
       "<style scoped>\n",
       "    .dataframe tbody tr th:only-of-type {\n",
       "        vertical-align: middle;\n",
       "    }\n",
       "\n",
       "    .dataframe tbody tr th {\n",
       "        vertical-align: top;\n",
       "    }\n",
       "\n",
       "    .dataframe thead th {\n",
       "        text-align: right;\n",
       "    }\n",
       "</style>\n",
       "<table border=\"1\" class=\"dataframe\">\n",
       "  <thead>\n",
       "    <tr style=\"text-align: right;\">\n",
       "      <th></th>\n",
       "      <th>Sensor Location</th>\n",
       "      <th>Date</th>\n",
       "      <th>Pressure</th>\n",
       "      <th>System</th>\n",
       "    </tr>\n",
       "  </thead>\n",
       "  <tbody>\n",
       "    <tr>\n",
       "      <th>0</th>\n",
       "      <td>Entry</td>\n",
       "      <td>1/5/2023</td>\n",
       "      <td>29.0</td>\n",
       "      <td>A</td>\n",
       "    </tr>\n",
       "    <tr>\n",
       "      <th>1</th>\n",
       "      <td>Area</td>\n",
       "      <td>1/5/2023</td>\n",
       "      <td>0.0</td>\n",
       "      <td>A</td>\n",
       "    </tr>\n",
       "    <tr>\n",
       "      <th>2</th>\n",
       "      <td>Area</td>\n",
       "      <td>1/5/2023</td>\n",
       "      <td>NaN</td>\n",
       "      <td>B</td>\n",
       "    </tr>\n",
       "    <tr>\n",
       "      <th>3</th>\n",
       "      <td>Entry</td>\n",
       "      <td>1/5/2023</td>\n",
       "      <td>6.0</td>\n",
       "      <td>A</td>\n",
       "    </tr>\n",
       "    <tr>\n",
       "      <th>4</th>\n",
       "      <td>Exit</td>\n",
       "      <td>1/5/2023</td>\n",
       "      <td>33.0</td>\n",
       "      <td>A</td>\n",
       "    </tr>\n",
       "  </tbody>\n",
       "</table>\n",
       "</div>"
      ],
      "text/plain": [
       "  Sensor Location      Date  Pressure System\n",
       "0           Entry  1/5/2023      29.0      A\n",
       "1            Area  1/5/2023       0.0      A\n",
       "2            Area  1/5/2023       NaN      B\n",
       "3           Entry  1/5/2023       6.0      A\n",
       "4            Exit  1/5/2023      33.0      A"
      ]
     },
     "execution_count": 5,
     "metadata": {},
     "output_type": "execute_result"
    }
   ],
   "source": [
    "# FILL IN - split the variables in the Sensor Location into multiple variables/columns\n",
    "updated_df[['Sensor Location', 'System']] = updated_df['Sensor Location'].str.split(expand=True)\n",
    "updated_df.head()"
   ]
  },
  {
   "cell_type": "markdown",
   "id": "81c0eecf",
   "metadata": {},
   "source": [
    "## 3. Quality Issue: Validity and Accuracy\n",
    "\n",
    "3.1 Between Jan 5th to Jan 6th, some of sensors' data for both Systems A and B were found to be corruputed due to a sudden, very high increase in temperature. \n",
    "\n",
    "Filter out rows where the sensors' reported data is **greater than 25 bar** into a seperate dataframe, and drop these rows from the original dataframe. \n",
    "\n",
    "*Hint:* Specify the invalid rows' index to drop these rows from the original dataframe."
   ]
  },
  {
   "cell_type": "code",
   "execution_count": 6,
   "id": "02bce3bb",
   "metadata": {},
   "outputs": [
    {
     "data": {
      "text/plain": [
       "Int64Index([0, 4, 6, 8], dtype='int64')"
      ]
     },
     "execution_count": 6,
     "metadata": {},
     "output_type": "execute_result"
    }
   ],
   "source": [
    "# FILL IN - get the rows where the data is greater than 25 bar in a seperate dataframe\n",
    "invalid_data = updated_df[updated_df['Pressure'] > 25]\n",
    "#Print the index of the new dataframe with invalid rows\n",
    "invalid_data.index"
   ]
  },
  {
   "cell_type": "code",
   "execution_count": 7,
   "id": "70e47de0",
   "metadata": {},
   "outputs": [
    {
     "data": {
      "text/html": [
       "<div>\n",
       "<style scoped>\n",
       "    .dataframe tbody tr th:only-of-type {\n",
       "        vertical-align: middle;\n",
       "    }\n",
       "\n",
       "    .dataframe tbody tr th {\n",
       "        vertical-align: top;\n",
       "    }\n",
       "\n",
       "    .dataframe thead th {\n",
       "        text-align: right;\n",
       "    }\n",
       "</style>\n",
       "<table border=\"1\" class=\"dataframe\">\n",
       "  <thead>\n",
       "    <tr style=\"text-align: right;\">\n",
       "      <th></th>\n",
       "      <th>index</th>\n",
       "      <th>Sensor Location</th>\n",
       "      <th>Date</th>\n",
       "      <th>Pressure</th>\n",
       "      <th>System</th>\n",
       "    </tr>\n",
       "  </thead>\n",
       "  <tbody>\n",
       "    <tr>\n",
       "      <th>0</th>\n",
       "      <td>1</td>\n",
       "      <td>Area</td>\n",
       "      <td>1/5/2023</td>\n",
       "      <td>0.0</td>\n",
       "      <td>A</td>\n",
       "    </tr>\n",
       "    <tr>\n",
       "      <th>1</th>\n",
       "      <td>2</td>\n",
       "      <td>Area</td>\n",
       "      <td>1/5/2023</td>\n",
       "      <td>NaN</td>\n",
       "      <td>B</td>\n",
       "    </tr>\n",
       "    <tr>\n",
       "      <th>2</th>\n",
       "      <td>3</td>\n",
       "      <td>Entry</td>\n",
       "      <td>1/5/2023</td>\n",
       "      <td>6.0</td>\n",
       "      <td>A</td>\n",
       "    </tr>\n",
       "    <tr>\n",
       "      <th>3</th>\n",
       "      <td>5</td>\n",
       "      <td>Exit</td>\n",
       "      <td>1/5/2023</td>\n",
       "      <td>18.0</td>\n",
       "      <td>B</td>\n",
       "    </tr>\n",
       "    <tr>\n",
       "      <th>4</th>\n",
       "      <td>7</td>\n",
       "      <td>Area</td>\n",
       "      <td>1/6/2023</td>\n",
       "      <td>11.0</td>\n",
       "      <td>A</td>\n",
       "    </tr>\n",
       "  </tbody>\n",
       "</table>\n",
       "</div>"
      ],
      "text/plain": [
       "   index Sensor Location      Date  Pressure System\n",
       "0      1            Area  1/5/2023       0.0      A\n",
       "1      2            Area  1/5/2023       NaN      B\n",
       "2      3           Entry  1/5/2023       6.0      A\n",
       "3      5            Exit  1/5/2023      18.0      B\n",
       "4      7            Area  1/6/2023      11.0      A"
      ]
     },
     "execution_count": 7,
     "metadata": {},
     "output_type": "execute_result"
    }
   ],
   "source": [
    "#FILL IN - drop the invalid rows from the original dataframe using .drop(...)\n",
    "updated_df = updated_df.drop(invalid_data.index)\n",
    "#Reset the index\n",
    "updated_df = updated_df.reset_index()\n",
    "#Display the first few rows\n",
    "updated_df.head()"
   ]
  },
  {
   "cell_type": "markdown",
   "id": "254a56c4",
   "metadata": {},
   "source": [
    "3.2 Use the `describe` function to check that the fix was successful. Are the `min` and `max` of the `Pressure` variable in the right range?"
   ]
  },
  {
   "cell_type": "code",
   "execution_count": 8,
   "id": "bb68dcb3",
   "metadata": {},
   "outputs": [
    {
     "data": {
      "text/html": [
       "<div>\n",
       "<style scoped>\n",
       "    .dataframe tbody tr th:only-of-type {\n",
       "        vertical-align: middle;\n",
       "    }\n",
       "\n",
       "    .dataframe tbody tr th {\n",
       "        vertical-align: top;\n",
       "    }\n",
       "\n",
       "    .dataframe thead th {\n",
       "        text-align: right;\n",
       "    }\n",
       "</style>\n",
       "<table border=\"1\" class=\"dataframe\">\n",
       "  <thead>\n",
       "    <tr style=\"text-align: right;\">\n",
       "      <th></th>\n",
       "      <th>index</th>\n",
       "      <th>Pressure</th>\n",
       "    </tr>\n",
       "  </thead>\n",
       "  <tbody>\n",
       "    <tr>\n",
       "      <th>count</th>\n",
       "      <td>44.000000</td>\n",
       "      <td>36.000000</td>\n",
       "    </tr>\n",
       "    <tr>\n",
       "      <th>mean</th>\n",
       "      <td>25.227273</td>\n",
       "      <td>11.583333</td>\n",
       "    </tr>\n",
       "    <tr>\n",
       "      <th>std</th>\n",
       "      <td>13.296028</td>\n",
       "      <td>6.983143</td>\n",
       "    </tr>\n",
       "    <tr>\n",
       "      <th>min</th>\n",
       "      <td>1.000000</td>\n",
       "      <td>0.000000</td>\n",
       "    </tr>\n",
       "    <tr>\n",
       "      <th>25%</th>\n",
       "      <td>14.750000</td>\n",
       "      <td>5.000000</td>\n",
       "    </tr>\n",
       "    <tr>\n",
       "      <th>50%</th>\n",
       "      <td>25.500000</td>\n",
       "      <td>12.000000</td>\n",
       "    </tr>\n",
       "    <tr>\n",
       "      <th>75%</th>\n",
       "      <td>36.250000</td>\n",
       "      <td>16.000000</td>\n",
       "    </tr>\n",
       "    <tr>\n",
       "      <th>max</th>\n",
       "      <td>47.000000</td>\n",
       "      <td>23.000000</td>\n",
       "    </tr>\n",
       "  </tbody>\n",
       "</table>\n",
       "</div>"
      ],
      "text/plain": [
       "           index   Pressure\n",
       "count  44.000000  36.000000\n",
       "mean   25.227273  11.583333\n",
       "std    13.296028   6.983143\n",
       "min     1.000000   0.000000\n",
       "25%    14.750000   5.000000\n",
       "50%    25.500000  12.000000\n",
       "75%    36.250000  16.000000\n",
       "max    47.000000  23.000000"
      ]
     },
     "execution_count": 8,
     "metadata": {},
     "output_type": "execute_result"
    }
   ],
   "source": [
    "#FILL IN - validate the range using .describe()\n",
    "updated_df.describe()"
   ]
  },
  {
   "cell_type": "markdown",
   "id": "82067c15",
   "metadata": {},
   "source": [
    "*FILL IN - is the range correct (Yes/No)*: ...\n",
    "\n",
    "The `Pressure` variable's range is correct, within 0-25 bar."
   ]
  }
 ],
 "metadata": {
  "kernelspec": {
   "display_name": "Python 3 (ipykernel)",
   "language": "python",
   "name": "python3"
  },
  "language_info": {
   "codemirror_mode": {
    "name": "ipython",
    "version": 3
   },
   "file_extension": ".py",
   "mimetype": "text/x-python",
   "name": "python",
   "nbconvert_exporter": "python",
   "pygments_lexer": "ipython3",
   "version": "3.10.13"
  }
 },
 "nbformat": 4,
 "nbformat_minor": 5
}
