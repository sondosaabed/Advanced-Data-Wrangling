{
 "cells": [
  {
   "cell_type": "markdown",
   "id": "cd4d76d6",
   "metadata": {},
   "source": [
    "# Assess Data Quality Programmatically"
   ]
  },
  {
   "cell_type": "markdown",
   "id": "695eae32",
   "metadata": {},
   "source": [
    "In this exercise, you will perform a programatic assessment of U.S. Bureau of Labor Statistics' \"Occupational Employment and Wage Statistics (OEWS) Research Estimates by State and Industry\". This dataset contains data on manager role occupations and the hourly wage. \n",
    "\n",
    "You will be assessing this data for **completeness** and **consistency**.\n",
    "\n",
    "As a supplementary dataset, you are provided with an additional dataset, the 2021 1-year ACS PUMS dataset, to validate the data quality issues against."
   ]
  },
  {
   "cell_type": "code",
   "execution_count": 1,
   "id": "7072b20c",
   "metadata": {},
   "outputs": [],
   "source": [
    "#DO NOT MODIFY - imports\n",
    "import pandas as pd\n",
    "import numpy as np"
   ]
  },
  {
   "cell_type": "markdown",
   "id": "c0374d2f",
   "metadata": {},
   "source": [
    "## Datasets context\n",
    "\n",
    "### OEWS data (uncleaned)\n",
    "\n",
    "The OEWS dataset was gathered manually as a CSV from the U.S. Bureau of Labor Statistics' website. The data was narrowed down to specifically focus on the managerial domain.\n",
    "\n",
    "The dataset has a number of variables - there are four variables of significance to us:\n",
    "\n",
    "- AREA_TITLE: Area/location name, e.g. Alabama\n",
    "- OCC_CODE: The Standard Occupational Classification (SOC) code, e.g. 11-0000\n",
    "- OCC_TITLE: The Standard Occupational Classification (SOC) title, e.g. Management Occupations\n",
    "- H_MEAN: The mean hourly wage of the worker, e.g. 61.13\n",
    "\n",
    "### PUMS data (cleaned)\n",
    "\n",
    "The PUMS dataset was downloaded via the Census Data API from the United Statest Census Bureau, and narrowed down for the Kern County - Bakersfield MSA, California area.\n",
    "\n",
    "Dataset variables:\n",
    "\n",
    "- WRK: Whether the individual worked last week\n",
    "    - 0: N/A (not reported)\n",
    "    - 1: Worked\n",
    "    - 2: Did not work\n",
    "- SEX: Sex (Male / Female) of the individual\n",
    "    - 1: Male\n",
    "    - 2: Female \n",
    "- SCOP: Standard Occupational Classification (SOC) codes for 2018 and later, based on the 2018 SOC codes"
   ]
  },
  {
   "cell_type": "code",
   "execution_count": 2,
   "id": "222fcc17",
   "metadata": {},
   "outputs": [
    {
     "data": {
      "text/html": [
       "<div>\n",
       "<style scoped>\n",
       "    .dataframe tbody tr th:only-of-type {\n",
       "        vertical-align: middle;\n",
       "    }\n",
       "\n",
       "    .dataframe tbody tr th {\n",
       "        vertical-align: top;\n",
       "    }\n",
       "\n",
       "    .dataframe thead th {\n",
       "        text-align: right;\n",
       "    }\n",
       "</style>\n",
       "<table border=\"1\" class=\"dataframe\">\n",
       "  <thead>\n",
       "    <tr style=\"text-align: right;\">\n",
       "      <th></th>\n",
       "      <th>AREA</th>\n",
       "      <th>AREA_TITLE</th>\n",
       "      <th>NAICS</th>\n",
       "      <th>NAICS_TITLE</th>\n",
       "      <th>I_GROUP</th>\n",
       "      <th>OCC_CODE</th>\n",
       "      <th>OCC_TITLE</th>\n",
       "      <th>O_GROUP</th>\n",
       "      <th>TOT_EMP</th>\n",
       "      <th>EMP_PRSE</th>\n",
       "      <th>...</th>\n",
       "      <th>H_MEDIAN</th>\n",
       "      <th>H_PCT75</th>\n",
       "      <th>H_PCT90</th>\n",
       "      <th>A_PCT10</th>\n",
       "      <th>A_PCT25</th>\n",
       "      <th>A_MEDIAN</th>\n",
       "      <th>A_PCT75</th>\n",
       "      <th>A_PCT90</th>\n",
       "      <th>ANNUAL</th>\n",
       "      <th>HOURLY</th>\n",
       "    </tr>\n",
       "  </thead>\n",
       "  <tbody>\n",
       "    <tr>\n",
       "      <th>0</th>\n",
       "      <td>1</td>\n",
       "      <td>Alabama</td>\n",
       "      <td>55</td>\n",
       "      <td>Management of Companies and Enterprises</td>\n",
       "      <td>sector</td>\n",
       "      <td>00-0000</td>\n",
       "      <td>All Occupations</td>\n",
       "      <td>total</td>\n",
       "      <td>21920</td>\n",
       "      <td>0</td>\n",
       "      <td>...</td>\n",
       "      <td>35.6</td>\n",
       "      <td>56.94</td>\n",
       "      <td>79.49</td>\n",
       "      <td>35470</td>\n",
       "      <td>47040</td>\n",
       "      <td>74050</td>\n",
       "      <td>118440</td>\n",
       "      <td>165330</td>\n",
       "      <td>NaN</td>\n",
       "      <td>NaN</td>\n",
       "    </tr>\n",
       "    <tr>\n",
       "      <th>1</th>\n",
       "      <td>1</td>\n",
       "      <td>Alabama</td>\n",
       "      <td>55</td>\n",
       "      <td>Management of Companies and Enterprises</td>\n",
       "      <td>sector</td>\n",
       "      <td>11-0000</td>\n",
       "      <td>Management Occupations</td>\n",
       "      <td>major</td>\n",
       "      <td>4820</td>\n",
       "      <td>4.1</td>\n",
       "      <td>...</td>\n",
       "      <td>61.13</td>\n",
       "      <td>92.03</td>\n",
       "      <td>#</td>\n",
       "      <td>61600</td>\n",
       "      <td>94020</td>\n",
       "      <td>127140</td>\n",
       "      <td>191420</td>\n",
       "      <td>#</td>\n",
       "      <td>NaN</td>\n",
       "      <td>NaN</td>\n",
       "    </tr>\n",
       "    <tr>\n",
       "      <th>2</th>\n",
       "      <td>1</td>\n",
       "      <td>Alabama</td>\n",
       "      <td>55</td>\n",
       "      <td>Management of Companies and Enterprises</td>\n",
       "      <td>sector</td>\n",
       "      <td>11-1021</td>\n",
       "      <td>General and Operations Managers</td>\n",
       "      <td>detailed</td>\n",
       "      <td>1600</td>\n",
       "      <td>7</td>\n",
       "      <td>...</td>\n",
       "      <td>60.5</td>\n",
       "      <td>#</td>\n",
       "      <td>#</td>\n",
       "      <td>60010</td>\n",
       "      <td>78520</td>\n",
       "      <td>125850</td>\n",
       "      <td>#</td>\n",
       "      <td>#</td>\n",
       "      <td>NaN</td>\n",
       "      <td>NaN</td>\n",
       "    </tr>\n",
       "    <tr>\n",
       "      <th>3</th>\n",
       "      <td>1</td>\n",
       "      <td>Alabama</td>\n",
       "      <td>55</td>\n",
       "      <td>Management of Companies and Enterprises</td>\n",
       "      <td>sector</td>\n",
       "      <td>11-2021</td>\n",
       "      <td>Marketing Managers</td>\n",
       "      <td>detailed</td>\n",
       "      <td>140</td>\n",
       "      <td>13.6</td>\n",
       "      <td>...</td>\n",
       "      <td>61.13</td>\n",
       "      <td>99.23</td>\n",
       "      <td>#</td>\n",
       "      <td>65240</td>\n",
       "      <td>98680</td>\n",
       "      <td>127140</td>\n",
       "      <td>206410</td>\n",
       "      <td>#</td>\n",
       "      <td>NaN</td>\n",
       "      <td>NaN</td>\n",
       "    </tr>\n",
       "    <tr>\n",
       "      <th>4</th>\n",
       "      <td>1</td>\n",
       "      <td>Alabama</td>\n",
       "      <td>55</td>\n",
       "      <td>Management of Companies and Enterprises</td>\n",
       "      <td>sector</td>\n",
       "      <td>11-2022</td>\n",
       "      <td>Sales Managers</td>\n",
       "      <td>detailed</td>\n",
       "      <td>140</td>\n",
       "      <td>14.7</td>\n",
       "      <td>...</td>\n",
       "      <td>49.56</td>\n",
       "      <td>77.94</td>\n",
       "      <td>#</td>\n",
       "      <td>59390</td>\n",
       "      <td>79010</td>\n",
       "      <td>103080</td>\n",
       "      <td>162110</td>\n",
       "      <td>#</td>\n",
       "      <td>NaN</td>\n",
       "      <td>NaN</td>\n",
       "    </tr>\n",
       "  </tbody>\n",
       "</table>\n",
       "<p>5 rows × 26 columns</p>\n",
       "</div>"
      ],
      "text/plain": [
       "   AREA AREA_TITLE  NAICS                              NAICS_TITLE I_GROUP  \\\n",
       "0     1    Alabama     55  Management of Companies and Enterprises  sector   \n",
       "1     1    Alabama     55  Management of Companies and Enterprises  sector   \n",
       "2     1    Alabama     55  Management of Companies and Enterprises  sector   \n",
       "3     1    Alabama     55  Management of Companies and Enterprises  sector   \n",
       "4     1    Alabama     55  Management of Companies and Enterprises  sector   \n",
       "\n",
       "  OCC_CODE                        OCC_TITLE   O_GROUP TOT_EMP EMP_PRSE  ...  \\\n",
       "0  00-0000                  All Occupations     total   21920        0  ...   \n",
       "1  11-0000           Management Occupations     major    4820      4.1  ...   \n",
       "2  11-1021  General and Operations Managers  detailed    1600        7  ...   \n",
       "3  11-2021               Marketing Managers  detailed     140     13.6  ...   \n",
       "4  11-2022                   Sales Managers  detailed     140     14.7  ...   \n",
       "\n",
       "  H_MEDIAN H_PCT75 H_PCT90 A_PCT10 A_PCT25 A_MEDIAN A_PCT75 A_PCT90 ANNUAL  \\\n",
       "0     35.6   56.94   79.49   35470   47040    74050  118440  165330    NaN   \n",
       "1    61.13   92.03       #   61600   94020   127140  191420       #    NaN   \n",
       "2     60.5       #       #   60010   78520   125850       #       #    NaN   \n",
       "3    61.13   99.23       #   65240   98680   127140  206410       #    NaN   \n",
       "4    49.56   77.94       #   59390   79010   103080  162110       #    NaN   \n",
       "\n",
       "  HOURLY  \n",
       "0    NaN  \n",
       "1    NaN  \n",
       "2    NaN  \n",
       "3    NaN  \n",
       "4    NaN  \n",
       "\n",
       "[5 rows x 26 columns]"
      ]
     },
     "execution_count": 2,
     "metadata": {},
     "output_type": "execute_result"
    }
   ],
   "source": [
    "#DO NOT MODIFY\n",
    "#Read in the uncleaned excel file (note: will take a few minutes to load)\n",
    "oews_data = pd.read_excel('oes_research_2021_sec_55-56.xlsx')\n",
    "#Show the first few rows\n",
    "oews_data.head()"
   ]
  },
  {
   "cell_type": "code",
   "execution_count": 3,
   "id": "e1ab80c3",
   "metadata": {},
   "outputs": [
    {
     "data": {
      "text/html": [
       "<div>\n",
       "<style scoped>\n",
       "    .dataframe tbody tr th:only-of-type {\n",
       "        vertical-align: middle;\n",
       "    }\n",
       "\n",
       "    .dataframe tbody tr th {\n",
       "        vertical-align: top;\n",
       "    }\n",
       "\n",
       "    .dataframe thead th {\n",
       "        text-align: right;\n",
       "    }\n",
       "</style>\n",
       "<table border=\"1\" class=\"dataframe\">\n",
       "  <thead>\n",
       "    <tr style=\"text-align: right;\">\n",
       "      <th></th>\n",
       "      <th>WRK</th>\n",
       "      <th>SEX</th>\n",
       "      <th>SOCP</th>\n",
       "    </tr>\n",
       "  </thead>\n",
       "  <tbody>\n",
       "    <tr>\n",
       "      <th>0</th>\n",
       "      <td>1</td>\n",
       "      <td>2</td>\n",
       "      <td>119151</td>\n",
       "    </tr>\n",
       "    <tr>\n",
       "      <th>1</th>\n",
       "      <td>2</td>\n",
       "      <td>1</td>\n",
       "      <td>119111</td>\n",
       "    </tr>\n",
       "    <tr>\n",
       "      <th>2</th>\n",
       "      <td>1</td>\n",
       "      <td>2</td>\n",
       "      <td>113121</td>\n",
       "    </tr>\n",
       "    <tr>\n",
       "      <th>3</th>\n",
       "      <td>1</td>\n",
       "      <td>1</td>\n",
       "      <td>1110XX</td>\n",
       "    </tr>\n",
       "    <tr>\n",
       "      <th>4</th>\n",
       "      <td>1</td>\n",
       "      <td>1</td>\n",
       "      <td>113051</td>\n",
       "    </tr>\n",
       "  </tbody>\n",
       "</table>\n",
       "</div>"
      ],
      "text/plain": [
       "   WRK  SEX    SOCP\n",
       "0    1    2  119151\n",
       "1    2    1  119111\n",
       "2    1    2  113121\n",
       "3    1    1  1110XX\n",
       "4    1    1  113051"
      ]
     },
     "execution_count": 3,
     "metadata": {},
     "output_type": "execute_result"
    }
   ],
   "source": [
    "#DO NOT MODIFY\n",
    "#Read the cleaned .json file\n",
    "cleaned_pums = pd.read_csv('cleaned_pums_2021.csv')\n",
    "#Show the first few rows\n",
    "cleaned_pums.head()"
   ]
  },
  {
   "cell_type": "markdown",
   "id": "ea8c5582",
   "metadata": {},
   "source": [
    "## 1. Inspect the completeness\n",
    "\n",
    "In the first step, take a look at the completeness of the OEWS dataset, and identify any missing or incomplete values."
   ]
  },
  {
   "cell_type": "markdown",
   "id": "be623b59",
   "metadata": {},
   "source": [
    "### 1.1 Create a subset of the dataset \n",
    "Create a subset of the dataset to only include the required variables: `AREA_TITLE`, `OCC_CODE`, `OCC_TITLE`, `H_MEAN`. **Use this subset for all the following steps in this exercise.**\n",
    "\n",
    "Check if there are any NA values in the data programmatically using `isnull()`."
   ]
  },
  {
   "cell_type": "code",
   "execution_count": 4,
   "id": "db767360",
   "metadata": {},
   "outputs": [],
   "source": [
    "#FILL IN - create a subset of the dataset\n",
    "#oews_data_subset = \n",
    "oews_data_subset = oews_data[['AREA_TITLE', 'OCC_CODE', 'OCC_TITLE', 'H_MEAN']]"
   ]
  },
  {
   "cell_type": "code",
   "execution_count": 5,
   "id": "a123863a",
   "metadata": {
    "scrolled": true
   },
   "outputs": [
    {
     "name": "stdout",
     "output_type": "stream",
     "text": [
      "0\n"
     ]
    }
   ],
   "source": [
    "#FILL IN - check programmatically if there are NA values using isnull()\n",
    "print(oews_data_subset.isnull().sum().sum())"
   ]
  },
  {
   "cell_type": "markdown",
   "id": "feef9ccd",
   "metadata": {},
   "source": [
    "### 1.2 Check the summary statistics\n",
    "Use the `.describe()` and `.info()` function to check the summary statistics for the OEWS dataset, specifically the `H_MEAN` variable. "
   ]
  },
  {
   "cell_type": "code",
   "execution_count": 6,
   "id": "6ba20fbd",
   "metadata": {},
   "outputs": [
    {
     "data": {
      "text/html": [
       "<div>\n",
       "<style scoped>\n",
       "    .dataframe tbody tr th:only-of-type {\n",
       "        vertical-align: middle;\n",
       "    }\n",
       "\n",
       "    .dataframe tbody tr th {\n",
       "        vertical-align: top;\n",
       "    }\n",
       "\n",
       "    .dataframe thead th {\n",
       "        text-align: right;\n",
       "    }\n",
       "</style>\n",
       "<table border=\"1\" class=\"dataframe\">\n",
       "  <thead>\n",
       "    <tr style=\"text-align: right;\">\n",
       "      <th></th>\n",
       "      <th>AREA_TITLE</th>\n",
       "      <th>OCC_CODE</th>\n",
       "      <th>OCC_TITLE</th>\n",
       "      <th>H_MEAN</th>\n",
       "    </tr>\n",
       "  </thead>\n",
       "  <tbody>\n",
       "    <tr>\n",
       "      <th>count</th>\n",
       "      <td>71508</td>\n",
       "      <td>71508</td>\n",
       "      <td>71508</td>\n",
       "      <td>71508</td>\n",
       "    </tr>\n",
       "    <tr>\n",
       "      <th>unique</th>\n",
       "      <td>54</td>\n",
       "      <td>596</td>\n",
       "      <td>596</td>\n",
       "      <td>6818</td>\n",
       "    </tr>\n",
       "    <tr>\n",
       "      <th>top</th>\n",
       "      <td>California</td>\n",
       "      <td>00-0000</td>\n",
       "      <td>All Occupations</td>\n",
       "      <td>*</td>\n",
       "    </tr>\n",
       "    <tr>\n",
       "      <th>freq</th>\n",
       "      <td>3223</td>\n",
       "      <td>1161</td>\n",
       "      <td>1161</td>\n",
       "      <td>536</td>\n",
       "    </tr>\n",
       "  </tbody>\n",
       "</table>\n",
       "</div>"
      ],
      "text/plain": [
       "        AREA_TITLE OCC_CODE        OCC_TITLE H_MEAN\n",
       "count        71508    71508            71508  71508\n",
       "unique          54      596              596   6818\n",
       "top     California  00-0000  All Occupations      *\n",
       "freq          3223     1161             1161    536"
      ]
     },
     "execution_count": 6,
     "metadata": {},
     "output_type": "execute_result"
    }
   ],
   "source": [
    "#FILL IN - run the .describe() function\n",
    "oews_data_subset.describe()"
   ]
  },
  {
   "cell_type": "code",
   "execution_count": 7,
   "id": "c5caec37",
   "metadata": {},
   "outputs": [
    {
     "name": "stdout",
     "output_type": "stream",
     "text": [
      "<class 'pandas.core.frame.DataFrame'>\n",
      "RangeIndex: 71508 entries, 0 to 71507\n",
      "Data columns (total 4 columns):\n",
      " #   Column      Non-Null Count  Dtype \n",
      "---  ------      --------------  ----- \n",
      " 0   AREA_TITLE  71508 non-null  object\n",
      " 1   OCC_CODE    71508 non-null  object\n",
      " 2   OCC_TITLE   71508 non-null  object\n",
      " 3   H_MEAN      71508 non-null  object\n",
      "dtypes: object(4)\n",
      "memory usage: 2.2+ MB\n"
     ]
    }
   ],
   "source": [
    "#FILL IN - run the .info() function\n",
    "oews_data_subset.info()"
   ]
  },
  {
   "cell_type": "markdown",
   "id": "0060826d",
   "metadata": {},
   "source": [
    "### 1.3 Look into the dtype of the dataset.\n",
    "There are a couple of things to notice.\n",
    "1. The `H_MEAN` variable should be a numerical dtype (i.e., 'float64'), but is instead an object. \n",
    "2. Using the `.describe()`, we see the `*` sign under `H_MEAN`, which indicates a wage estimate is **not available** - hence, it should be a NaN value, even though it isn't phrased as such. \n",
    "\n",
    "To solve this issue, replace the `*` sign in `H_MEAN` with a `np.NaN` object for the `H_MEAN` variable using `.replace()`."
   ]
  },
  {
   "cell_type": "code",
   "execution_count": 8,
   "id": "3f1de199",
   "metadata": {},
   "outputs": [
    {
     "name": "stdout",
     "output_type": "stream",
     "text": [
      "AREA_TITLE    object\n",
      "OCC_CODE      object\n",
      "OCC_TITLE     object\n",
      "H_MEAN        object\n",
      "dtype: object\n"
     ]
    }
   ],
   "source": [
    "#FILL IN - Print the dtypes\n",
    "print(oews_data_subset.dtypes)"
   ]
  },
  {
   "cell_type": "code",
   "execution_count": 12,
   "id": "383bbc42",
   "metadata": {},
   "outputs": [],
   "source": [
    "#DO NOT MODIFY\n",
    "#Disable chained assignments\n",
    "#Objective: Silences warnings when operating on slices of dataframes\n",
    "#for the purposes of this exercise\n",
    "pd.options.mode.chained_assignment = None "
   ]
  },
  {
   "cell_type": "code",
   "execution_count": 13,
   "id": "e245e9de",
   "metadata": {},
   "outputs": [],
   "source": [
    "#FILL IN\n",
    "#Replace the * sign with np.nan\n",
    "oews_data_subset['H_MEAN'] = oews_data_subset['H_MEAN'].replace({'*': np.nan})"
   ]
  },
  {
   "cell_type": "markdown",
   "id": "97303384",
   "metadata": {},
   "source": [
    "### 1.4 Check the number of NA values again\n",
    "Now, check the NA values in in the OEWS dataset again"
   ]
  },
  {
   "cell_type": "code",
   "execution_count": 14,
   "id": "48e11f55",
   "metadata": {
    "scrolled": true
   },
   "outputs": [
    {
     "name": "stdout",
     "output_type": "stream",
     "text": [
      "536\n"
     ]
    }
   ],
   "source": [
    "#Check number of NA values in OEWS data\n",
    "print(oews_data_subset.isnull().sum().sum())"
   ]
  },
  {
   "cell_type": "markdown",
   "id": "e3f31259",
   "metadata": {},
   "source": [
    "## 2. Inspect the consistency"
   ]
  },
  {
   "cell_type": "markdown",
   "id": "8fdfb445",
   "metadata": {},
   "source": [
    "Check for consistency between the OEWS and PUMS data for the `AREA_TITLE` and `OCC_CODE`/`SOCP` variables, and answer the following questions."
   ]
  },
  {
   "cell_type": "markdown",
   "id": "1ddb52be",
   "metadata": {},
   "source": [
    "### 2.1 Is the Area consistent between the two datasets? \n",
    "**Note**: Recall that the PUMS dataset **only** contains data for the Kern County - Bakersfield MSA, California area.\n",
    "\n",
    "Is the Area consistent between the two datasets? Use the `.head()` function, and optionally `.describe()` and `.info()`."
   ]
  },
  {
   "cell_type": "code",
   "execution_count": 15,
   "id": "7f86eb79",
   "metadata": {},
   "outputs": [
    {
     "data": {
      "text/html": [
       "<div>\n",
       "<style scoped>\n",
       "    .dataframe tbody tr th:only-of-type {\n",
       "        vertical-align: middle;\n",
       "    }\n",
       "\n",
       "    .dataframe tbody tr th {\n",
       "        vertical-align: top;\n",
       "    }\n",
       "\n",
       "    .dataframe thead th {\n",
       "        text-align: right;\n",
       "    }\n",
       "</style>\n",
       "<table border=\"1\" class=\"dataframe\">\n",
       "  <thead>\n",
       "    <tr style=\"text-align: right;\">\n",
       "      <th></th>\n",
       "      <th>AREA_TITLE</th>\n",
       "      <th>OCC_CODE</th>\n",
       "      <th>OCC_TITLE</th>\n",
       "      <th>H_MEAN</th>\n",
       "    </tr>\n",
       "  </thead>\n",
       "  <tbody>\n",
       "    <tr>\n",
       "      <th>0</th>\n",
       "      <td>Alabama</td>\n",
       "      <td>00-0000</td>\n",
       "      <td>All Occupations</td>\n",
       "      <td>42.88</td>\n",
       "    </tr>\n",
       "    <tr>\n",
       "      <th>1</th>\n",
       "      <td>Alabama</td>\n",
       "      <td>11-0000</td>\n",
       "      <td>Management Occupations</td>\n",
       "      <td>70.9</td>\n",
       "    </tr>\n",
       "    <tr>\n",
       "      <th>2</th>\n",
       "      <td>Alabama</td>\n",
       "      <td>11-1021</td>\n",
       "      <td>General and Operations Managers</td>\n",
       "      <td>72.76</td>\n",
       "    </tr>\n",
       "    <tr>\n",
       "      <th>3</th>\n",
       "      <td>Alabama</td>\n",
       "      <td>11-2021</td>\n",
       "      <td>Marketing Managers</td>\n",
       "      <td>69.97</td>\n",
       "    </tr>\n",
       "    <tr>\n",
       "      <th>4</th>\n",
       "      <td>Alabama</td>\n",
       "      <td>11-2022</td>\n",
       "      <td>Sales Managers</td>\n",
       "      <td>62.97</td>\n",
       "    </tr>\n",
       "  </tbody>\n",
       "</table>\n",
       "</div>"
      ],
      "text/plain": [
       "  AREA_TITLE OCC_CODE                        OCC_TITLE H_MEAN\n",
       "0    Alabama  00-0000                  All Occupations  42.88\n",
       "1    Alabama  11-0000           Management Occupations   70.9\n",
       "2    Alabama  11-1021  General and Operations Managers  72.76\n",
       "3    Alabama  11-2021               Marketing Managers  69.97\n",
       "4    Alabama  11-2022                   Sales Managers  62.97"
      ]
     },
     "execution_count": 15,
     "metadata": {},
     "output_type": "execute_result"
    }
   ],
   "source": [
    "#FILL IN - inspect the head of the OEWS dataframe\n",
    "oews_data_subset.head()"
   ]
  },
  {
   "cell_type": "code",
   "execution_count": 16,
   "id": "f5077bc8",
   "metadata": {},
   "outputs": [
    {
     "data": {
      "text/html": [
       "<div>\n",
       "<style scoped>\n",
       "    .dataframe tbody tr th:only-of-type {\n",
       "        vertical-align: middle;\n",
       "    }\n",
       "\n",
       "    .dataframe tbody tr th {\n",
       "        vertical-align: top;\n",
       "    }\n",
       "\n",
       "    .dataframe thead th {\n",
       "        text-align: right;\n",
       "    }\n",
       "</style>\n",
       "<table border=\"1\" class=\"dataframe\">\n",
       "  <thead>\n",
       "    <tr style=\"text-align: right;\">\n",
       "      <th></th>\n",
       "      <th>WRK</th>\n",
       "      <th>SEX</th>\n",
       "      <th>SOCP</th>\n",
       "    </tr>\n",
       "  </thead>\n",
       "  <tbody>\n",
       "    <tr>\n",
       "      <th>0</th>\n",
       "      <td>1</td>\n",
       "      <td>2</td>\n",
       "      <td>119151</td>\n",
       "    </tr>\n",
       "    <tr>\n",
       "      <th>1</th>\n",
       "      <td>2</td>\n",
       "      <td>1</td>\n",
       "      <td>119111</td>\n",
       "    </tr>\n",
       "    <tr>\n",
       "      <th>2</th>\n",
       "      <td>1</td>\n",
       "      <td>2</td>\n",
       "      <td>113121</td>\n",
       "    </tr>\n",
       "    <tr>\n",
       "      <th>3</th>\n",
       "      <td>1</td>\n",
       "      <td>1</td>\n",
       "      <td>1110XX</td>\n",
       "    </tr>\n",
       "    <tr>\n",
       "      <th>4</th>\n",
       "      <td>1</td>\n",
       "      <td>1</td>\n",
       "      <td>113051</td>\n",
       "    </tr>\n",
       "  </tbody>\n",
       "</table>\n",
       "</div>"
      ],
      "text/plain": [
       "   WRK  SEX    SOCP\n",
       "0    1    2  119151\n",
       "1    2    1  119111\n",
       "2    1    2  113121\n",
       "3    1    1  1110XX\n",
       "4    1    1  113051"
      ]
     },
     "execution_count": 16,
     "metadata": {},
     "output_type": "execute_result"
    }
   ],
   "source": [
    "#FILL IN - inspect the head of the PUMS dataframe\n",
    "cleaned_pums.head()"
   ]
  },
  {
   "cell_type": "markdown",
   "id": "ca35c6fc",
   "metadata": {},
   "source": [
    "*Answer*: \n",
    "\n",
    "The locations are not consistent - the OEWS data is providing data for multiple states within the US."
   ]
  },
  {
   "cell_type": "markdown",
   "id": "b94d6674",
   "metadata": {},
   "source": [
    "### 2.2. Are the occupation codes consistent?\n",
    "\n",
    "Are the occupation codes consistent between the two datasets (`OCC_CODE` and `SOCP`)? Use the `.sample()` function to pull a few random samples from the dataset. What is the difference, if any?"
   ]
  },
  {
   "cell_type": "code",
   "execution_count": 24,
   "id": "1c049b92",
   "metadata": {},
   "outputs": [
    {
     "data": {
      "text/plain": [
       "69058    49-0000\n",
       "70199    49-0000\n",
       "28155    39-7010\n",
       "56753    41-0000\n",
       "Name: OCC_CODE, dtype: object"
      ]
     },
     "execution_count": 24,
     "metadata": {},
     "output_type": "execute_result"
    }
   ],
   "source": [
    "#FILL IN\n",
    "#Pull a random sample from the OEWS dataframe, indexed on OCC_CODE\n",
    "oews_data_subset['OCC_CODE'].sample(4)"
   ]
  },
  {
   "cell_type": "code",
   "execution_count": 23,
   "id": "5acf23f5",
   "metadata": {
    "scrolled": true
   },
   "outputs": [
    {
     "data": {
      "text/plain": [
       "11058    1191XX\n",
       "2009     119111\n",
       "18657    119021\n",
       "2833     119021\n",
       "Name: SOCP, dtype: object"
      ]
     },
     "execution_count": 23,
     "metadata": {},
     "output_type": "execute_result"
    }
   ],
   "source": [
    "#FILL IN\n",
    "#Pull a random sample from the cleaned_pums dataframe, indexed on SOCP\n",
    "cleaned_pums['SOCP'].sample(4)"
   ]
  },
  {
   "cell_type": "markdown",
   "id": "7fe27831",
   "metadata": {},
   "source": [
    "*Answer*: \n",
    "\n",
    "We can see inconsistency between the SCOP and OCC_code variables - specifically the format (the lack of a hyphen in the PUMS' SCOP dataset)."
   ]
  },
  {
   "cell_type": "code",
   "execution_count": null,
   "id": "e9a049ce",
   "metadata": {},
   "outputs": [],
   "source": []
  }
 ],
 "metadata": {
  "kernelspec": {
   "display_name": "Python 3 (ipykernel)",
   "language": "python",
   "name": "python3"
  },
  "language_info": {
   "codemirror_mode": {
    "name": "ipython",
    "version": 3
   },
   "file_extension": ".py",
   "mimetype": "text/x-python",
   "name": "python",
   "nbconvert_exporter": "python",
   "pygments_lexer": "ipython3",
   "version": "3.10.13"
  }
 },
 "nbformat": 4,
 "nbformat_minor": 5
}
