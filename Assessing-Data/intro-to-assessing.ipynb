{
 "cells": [
  {
   "cell_type": "markdown",
   "metadata": {},
   "source": [
    "## Summary\n",
    "\n",
    "Assessing your data is the second step in the data-wrangling process. When data wranglers are assessing data, they're inspecting their datasets for two things:\n",
    "\n",
    "> **Data quality** issues like missing, duplicates, or incorrect data. This is called **dirty data**.\n",
    "    \n",
    "> **Data structural** issues like data have different formats. This is called **messy data**.\n",
    "\n",
    "You can search for these issues in two ways:\n",
    "> Visually by scrolling\n",
    "    \n",
    "> Programmatically using code\n",
    "\n",
    "Remember to document the data issue when you detect it to make cleaning easier."
   ]
  }
 ],
 "metadata": {
  "language_info": {
   "name": "python"
  }
 },
 "nbformat": 4,
 "nbformat_minor": 2
}
