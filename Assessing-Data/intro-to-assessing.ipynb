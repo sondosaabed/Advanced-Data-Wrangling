{
 "cells": [
  {
   "cell_type": "markdown",
   "metadata": {},
   "source": [
    "## Summary\n",
    "\n",
    "Assessing your data is the second step in the data-wrangling process. When data wranglers are assessing data, they're inspecting their datasets for two things:\n",
    "\n",
    "> **Data quality** issues like missing, duplicates, or incorrect data. This is called **dirty data**. Inaccurate data is an example of dirty data, i.e., a data quality issue. High data quality is crucial for obtaining reliable insights and driving informed decision-making.\n",
    "\n",
    "\n",
    "> **Data structural** issues like data have different formats. This is called **messy data**. Unorganized data is an example of messy data, i.e., a data structural issue. With tidy data, we can focus on performing additional assessments and cleaning without dealing with roadblocks around getting the data into a structure that's easier to view and parse.\n",
    "\n",
    "\n",
    "You can search for these issues in two ways:\n",
    "> Visually by scrolling\n",
    "    \n",
    "> Programmatically using code\n",
    "\n",
    "Remember to document the data issue when you detect it to make cleaning easier."
   ]
  }
 ],
 "metadata": {
  "language_info": {
   "name": "python"
  }
 },
 "nbformat": 4,
 "nbformat_minor": 2
}
