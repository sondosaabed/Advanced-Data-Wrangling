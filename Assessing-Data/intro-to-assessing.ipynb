{
 "cells": [
  {
   "cell_type": "markdown",
   "metadata": {},
   "source": [
    "## Summary\n",
    "\n",
    "Assessing your data is the second step in the data-wrangling process. When data wranglers are assessing data, they're inspecting their datasets for two things:\n",
    "\n",
    "> **Data quality** issues like missing, duplicates, or incorrect data. This is called **dirty data**. Inaccurate data is an example of dirty data, i.e., a data quality issue. High data quality is crucial for obtaining reliable insights and driving informed decision-making.\n",
    "\n",
    "\n",
    "> **Data structural** issues like data have different formats. This is called **messy data**. Unorganized data is an example of messy data, i.e., a data structural issue. With tidy data, we can focus on performing additional assessments and cleaning without dealing with roadblocks around getting the data into a structure that's easier to view and parse.\n",
    "\n",
    "\n",
    "You can search for these issues in two ways:\n",
    "> Visually by scrolling\n",
    "    \n",
    "> Programmatically using code\n",
    "\n",
    "Remember to document the data issue when you detect it to make cleaning easier."
   ]
  },
  {
   "cell_type": "markdown",
   "metadata": {},
   "source": [
    "## dimensions of Data Quality\n",
    "Let's recap the key dimensions of data quality:\n",
    "\n",
    "- **Completeness** is a metric that helps you understand whether your data is sufficient to answer interesting questions or solve your problem.\n",
    "- **Validity** is a metric helping you understand how well your data conforms to a defined set of rules for data, also known as a schema.\n",
    "- **Accuracy** is a metric that helps you understand whether your data accurately represents the reality it aims to depict.\n",
    "- **Consistency** is a metric that helps you understand two things: whether your data follows a standard format and whether your data’s info matches with information from other data sources.\n",
    "- **Uniqueness** is a metric that helps you understand whether there are duplicate or overlapping values in your data."
   ]
  },
  {
   "cell_type": "markdown",
   "metadata": {},
   "source": [
    "## Assessment\n",
    "Visual + Programmatic assessment - inspect records\n",
    "\n",
    "    .head()\n",
    "    .tail()\n",
    "    .sample()\n",
    "\n",
    "Summary of dataframe\n",
    "\n",
    "    .info()\n",
    "    .describe()\n",
    "\n",
    "Retrieve specific information\n",
    "\n",
    "    .isnull()\n",
    "    .sort_values()\n",
    "    .value_counts()\n",
    "    .duplicated()\n",
    "    .min()\n"
   ]
  },
  {
   "cell_type": "markdown",
   "metadata": {},
   "source": [
    "## Analytical data \n",
    "\n",
    "- helps us perform analyses, like visualizing trends or training machine learning models.\n",
    "- Data tidiness is essential for analytical datasets, as analytical data is often used to help with business decision-making and is typically based on big data.\n",
    "\n",
    "Additional considerations for analytical datasets\n",
    "\n",
    "**Unit of Analysis:** Merging data from additional sources by defining a clear analysis unit can help enrich your dataset's value. Units of analysis can be individuals, groups, artifacts (i.e., items like books), and geographical units (e.g., states). Note that while a unit of analysis is the item you want to structure your data around, a unit of observation is the item you can actually observe.\n",
    "Unique keys\n",
    "\n",
    "**Unique keys** can help with merging multiple datasets/data tables. Note that both primary keys and unique keys can be used to uniquely identify records in a table; however, a primary key does not allow NULL values, whereas a unique key can allow one NULL value per column and can be used for additional uniqueness constraints on columns other than the primary key.\n",
    "\n",
    "**Granularity and Aggregation** When defining analytical datasets, you need to consider the granularity and aggregation level in your dataset."
   ]
  }
 ],
 "metadata": {
  "language_info": {
   "name": "python"
  }
 },
 "nbformat": 4,
 "nbformat_minor": 2
}
