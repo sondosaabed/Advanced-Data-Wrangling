{
 "cells": [
  {
   "cell_type": "markdown",
   "id": "a5437710",
   "metadata": {},
   "source": [
    "# Assessing Data Quality Programmatically"
   ]
  },
  {
   "cell_type": "markdown",
   "id": "60cd6b6f",
   "metadata": {},
   "source": [
    "Context: Dataset is synthetic phase two clinical trial dataset of 350 patients for a new innovative oral insulin called Auralin - a proprietary capsule that can solve a stomach lining problem."
   ]
  },
  {
   "cell_type": "code",
   "execution_count": 2,
   "id": "33a095cb",
   "metadata": {},
   "outputs": [],
   "source": [
    "#Import pandas\n",
    "import pandas as pd\n",
    "\n",
    "#Load in datasets\n",
    "patients = pd.read_csv('patients.csv')\n",
    "treatments = pd.read_csv('treatments.csv')"
   ]
  },
  {
   "cell_type": "markdown",
   "id": "e093239d",
   "metadata": {},
   "source": [
    "## Data Quality issues with the treatments table"
   ]
  },
  {
   "cell_type": "code",
   "execution_count": 3,
   "id": "35a76aee",
   "metadata": {},
   "outputs": [
    {
     "data": {
      "text/html": [
       "<div>\n",
       "<style scoped>\n",
       "    .dataframe tbody tr th:only-of-type {\n",
       "        vertical-align: middle;\n",
       "    }\n",
       "\n",
       "    .dataframe tbody tr th {\n",
       "        vertical-align: top;\n",
       "    }\n",
       "\n",
       "    .dataframe thead th {\n",
       "        text-align: right;\n",
       "    }\n",
       "</style>\n",
       "<table border=\"1\" class=\"dataframe\">\n",
       "  <thead>\n",
       "    <tr style=\"text-align: right;\">\n",
       "      <th></th>\n",
       "      <th>given_name</th>\n",
       "      <th>surname</th>\n",
       "      <th>auralin</th>\n",
       "      <th>novodra</th>\n",
       "      <th>hba1c_start</th>\n",
       "      <th>hba1c_end</th>\n",
       "      <th>hba1c_change</th>\n",
       "    </tr>\n",
       "  </thead>\n",
       "  <tbody>\n",
       "    <tr>\n",
       "      <th>0</th>\n",
       "      <td>veronika</td>\n",
       "      <td>jindrová</td>\n",
       "      <td>41u - 48u</td>\n",
       "      <td>-</td>\n",
       "      <td>7.63</td>\n",
       "      <td>7.20</td>\n",
       "      <td>NaN</td>\n",
       "    </tr>\n",
       "    <tr>\n",
       "      <th>1</th>\n",
       "      <td>elliot</td>\n",
       "      <td>richardson</td>\n",
       "      <td>-</td>\n",
       "      <td>40u - 45u</td>\n",
       "      <td>7.56</td>\n",
       "      <td>7.09</td>\n",
       "      <td>0.97</td>\n",
       "    </tr>\n",
       "    <tr>\n",
       "      <th>2</th>\n",
       "      <td>yukitaka</td>\n",
       "      <td>takenaka</td>\n",
       "      <td>-</td>\n",
       "      <td>39u - 36u</td>\n",
       "      <td>7.68</td>\n",
       "      <td>7.25</td>\n",
       "      <td>NaN</td>\n",
       "    </tr>\n",
       "    <tr>\n",
       "      <th>3</th>\n",
       "      <td>skye</td>\n",
       "      <td>gormanston</td>\n",
       "      <td>33u - 36u</td>\n",
       "      <td>-</td>\n",
       "      <td>7.97</td>\n",
       "      <td>7.62</td>\n",
       "      <td>0.35</td>\n",
       "    </tr>\n",
       "    <tr>\n",
       "      <th>4</th>\n",
       "      <td>alissa</td>\n",
       "      <td>montez</td>\n",
       "      <td>-</td>\n",
       "      <td>33u - 29u</td>\n",
       "      <td>7.78</td>\n",
       "      <td>7.46</td>\n",
       "      <td>0.32</td>\n",
       "    </tr>\n",
       "  </tbody>\n",
       "</table>\n",
       "</div>"
      ],
      "text/plain": [
       "  given_name     surname    auralin    novodra  hba1c_start  hba1c_end  \\\n",
       "0   veronika    jindrová  41u - 48u          -         7.63       7.20   \n",
       "1     elliot  richardson          -  40u - 45u         7.56       7.09   \n",
       "2   yukitaka    takenaka          -  39u - 36u         7.68       7.25   \n",
       "3       skye  gormanston  33u - 36u          -         7.97       7.62   \n",
       "4     alissa      montez          -  33u - 29u         7.78       7.46   \n",
       "\n",
       "   hba1c_change  \n",
       "0           NaN  \n",
       "1          0.97  \n",
       "2           NaN  \n",
       "3          0.35  \n",
       "4          0.32  "
      ]
     },
     "execution_count": 3,
     "metadata": {},
     "output_type": "execute_result"
    }
   ],
   "source": [
    "#View the first few rows of the treatments dataframe\n",
    "treatments.head()"
   ]
  },
  {
   "cell_type": "code",
   "execution_count": 4,
   "id": "a278d874",
   "metadata": {},
   "outputs": [
    {
     "data": {
      "text/html": [
       "<div>\n",
       "<style scoped>\n",
       "    .dataframe tbody tr th:only-of-type {\n",
       "        vertical-align: middle;\n",
       "    }\n",
       "\n",
       "    .dataframe tbody tr th {\n",
       "        vertical-align: top;\n",
       "    }\n",
       "\n",
       "    .dataframe thead th {\n",
       "        text-align: right;\n",
       "    }\n",
       "</style>\n",
       "<table border=\"1\" class=\"dataframe\">\n",
       "  <thead>\n",
       "    <tr style=\"text-align: right;\">\n",
       "      <th></th>\n",
       "      <th>given_name</th>\n",
       "      <th>surname</th>\n",
       "      <th>auralin</th>\n",
       "      <th>novodra</th>\n",
       "      <th>hba1c_start</th>\n",
       "      <th>hba1c_end</th>\n",
       "      <th>hba1c_change</th>\n",
       "    </tr>\n",
       "  </thead>\n",
       "  <tbody>\n",
       "    <tr>\n",
       "      <th>275</th>\n",
       "      <td>albina</td>\n",
       "      <td>zetticci</td>\n",
       "      <td>45u - 51u</td>\n",
       "      <td>-</td>\n",
       "      <td>7.93</td>\n",
       "      <td>7.73</td>\n",
       "      <td>0.20</td>\n",
       "    </tr>\n",
       "    <tr>\n",
       "      <th>276</th>\n",
       "      <td>john</td>\n",
       "      <td>teichelmann</td>\n",
       "      <td>-</td>\n",
       "      <td>49u - 49u</td>\n",
       "      <td>7.90</td>\n",
       "      <td>7.58</td>\n",
       "      <td>NaN</td>\n",
       "    </tr>\n",
       "    <tr>\n",
       "      <th>277</th>\n",
       "      <td>mathea</td>\n",
       "      <td>lillebø</td>\n",
       "      <td>23u - 36u</td>\n",
       "      <td>-</td>\n",
       "      <td>9.04</td>\n",
       "      <td>8.67</td>\n",
       "      <td>0.37</td>\n",
       "    </tr>\n",
       "    <tr>\n",
       "      <th>278</th>\n",
       "      <td>vallie</td>\n",
       "      <td>prince</td>\n",
       "      <td>31u - 38u</td>\n",
       "      <td>-</td>\n",
       "      <td>7.64</td>\n",
       "      <td>7.28</td>\n",
       "      <td>0.36</td>\n",
       "    </tr>\n",
       "    <tr>\n",
       "      <th>279</th>\n",
       "      <td>samúel</td>\n",
       "      <td>guðbrandsson</td>\n",
       "      <td>53u - 56u</td>\n",
       "      <td>-</td>\n",
       "      <td>8.00</td>\n",
       "      <td>7.64</td>\n",
       "      <td>0.36</td>\n",
       "    </tr>\n",
       "  </tbody>\n",
       "</table>\n",
       "</div>"
      ],
      "text/plain": [
       "    given_name       surname    auralin    novodra  hba1c_start  hba1c_end  \\\n",
       "275     albina      zetticci  45u - 51u          -         7.93       7.73   \n",
       "276       john   teichelmann          -  49u - 49u         7.90       7.58   \n",
       "277     mathea       lillebø  23u - 36u          -         9.04       8.67   \n",
       "278     vallie        prince  31u - 38u          -         7.64       7.28   \n",
       "279     samúel  guðbrandsson  53u - 56u          -         8.00       7.64   \n",
       "\n",
       "     hba1c_change  \n",
       "275          0.20  \n",
       "276           NaN  \n",
       "277          0.37  \n",
       "278          0.36  \n",
       "279          0.36  "
      ]
     },
     "execution_count": 4,
     "metadata": {},
     "output_type": "execute_result"
    }
   ],
   "source": [
    "#View the last few rows of the treatments dataframe\n",
    "treatments.tail()"
   ]
  },
  {
   "cell_type": "code",
   "execution_count": 5,
   "id": "4ba17839",
   "metadata": {},
   "outputs": [
    {
     "data": {
      "text/html": [
       "<div>\n",
       "<style scoped>\n",
       "    .dataframe tbody tr th:only-of-type {\n",
       "        vertical-align: middle;\n",
       "    }\n",
       "\n",
       "    .dataframe tbody tr th {\n",
       "        vertical-align: top;\n",
       "    }\n",
       "\n",
       "    .dataframe thead th {\n",
       "        text-align: right;\n",
       "    }\n",
       "</style>\n",
       "<table border=\"1\" class=\"dataframe\">\n",
       "  <thead>\n",
       "    <tr style=\"text-align: right;\">\n",
       "      <th></th>\n",
       "      <th>given_name</th>\n",
       "      <th>surname</th>\n",
       "      <th>auralin</th>\n",
       "      <th>novodra</th>\n",
       "      <th>hba1c_start</th>\n",
       "      <th>hba1c_end</th>\n",
       "      <th>hba1c_change</th>\n",
       "    </tr>\n",
       "  </thead>\n",
       "  <tbody>\n",
       "    <tr>\n",
       "      <th>95</th>\n",
       "      <td>jaakko</td>\n",
       "      <td>eskelinen</td>\n",
       "      <td>39u - 45u</td>\n",
       "      <td>-</td>\n",
       "      <td>7.73</td>\n",
       "      <td>7.42</td>\n",
       "      <td>0.31</td>\n",
       "    </tr>\n",
       "  </tbody>\n",
       "</table>\n",
       "</div>"
      ],
      "text/plain": [
       "   given_name    surname    auralin novodra  hba1c_start  hba1c_end  \\\n",
       "95     jaakko  eskelinen  39u - 45u       -         7.73       7.42   \n",
       "\n",
       "    hba1c_change  \n",
       "95          0.31  "
      ]
     },
     "execution_count": 5,
     "metadata": {},
     "output_type": "execute_result"
    }
   ],
   "source": [
    "#Returns one random entry from the datframe \n",
    "#for non-directed programmatic assessment\n",
    "treatments.sample()"
   ]
  },
  {
   "cell_type": "code",
   "execution_count": 6,
   "id": "b09c3523",
   "metadata": {},
   "outputs": [
    {
     "data": {
      "text/html": [
       "<div>\n",
       "<style scoped>\n",
       "    .dataframe tbody tr th:only-of-type {\n",
       "        vertical-align: middle;\n",
       "    }\n",
       "\n",
       "    .dataframe tbody tr th {\n",
       "        vertical-align: top;\n",
       "    }\n",
       "\n",
       "    .dataframe thead th {\n",
       "        text-align: right;\n",
       "    }\n",
       "</style>\n",
       "<table border=\"1\" class=\"dataframe\">\n",
       "  <thead>\n",
       "    <tr style=\"text-align: right;\">\n",
       "      <th></th>\n",
       "      <th>given_name</th>\n",
       "      <th>surname</th>\n",
       "      <th>auralin</th>\n",
       "      <th>novodra</th>\n",
       "      <th>hba1c_start</th>\n",
       "      <th>hba1c_end</th>\n",
       "      <th>hba1c_change</th>\n",
       "    </tr>\n",
       "  </thead>\n",
       "  <tbody>\n",
       "    <tr>\n",
       "      <th>48</th>\n",
       "      <td>zak</td>\n",
       "      <td>kelly</td>\n",
       "      <td>-</td>\n",
       "      <td>38u - 38u</td>\n",
       "      <td>7.66</td>\n",
       "      <td>7.26</td>\n",
       "      <td>NaN</td>\n",
       "    </tr>\n",
       "    <tr>\n",
       "      <th>245</th>\n",
       "      <td>wu</td>\n",
       "      <td>sung</td>\n",
       "      <td>-</td>\n",
       "      <td>47u - 48u</td>\n",
       "      <td>7.61</td>\n",
       "      <td>7.12</td>\n",
       "      <td>0.99</td>\n",
       "    </tr>\n",
       "    <tr>\n",
       "      <th>87</th>\n",
       "      <td>finley</td>\n",
       "      <td>chandler</td>\n",
       "      <td>31u - 45u</td>\n",
       "      <td>-</td>\n",
       "      <td>7.65</td>\n",
       "      <td>7.26</td>\n",
       "      <td>0.39</td>\n",
       "    </tr>\n",
       "    <tr>\n",
       "      <th>10</th>\n",
       "      <td>joseph</td>\n",
       "      <td>day</td>\n",
       "      <td>29u - 36u</td>\n",
       "      <td>-</td>\n",
       "      <td>7.70</td>\n",
       "      <td>7.19</td>\n",
       "      <td>NaN</td>\n",
       "    </tr>\n",
       "    <tr>\n",
       "      <th>227</th>\n",
       "      <td>erica</td>\n",
       "      <td>macdonald</td>\n",
       "      <td>33u - 39u</td>\n",
       "      <td>-</td>\n",
       "      <td>7.55</td>\n",
       "      <td>7.26</td>\n",
       "      <td>0.29</td>\n",
       "    </tr>\n",
       "  </tbody>\n",
       "</table>\n",
       "</div>"
      ],
      "text/plain": [
       "    given_name    surname    auralin    novodra  hba1c_start  hba1c_end  \\\n",
       "48         zak      kelly          -  38u - 38u         7.66       7.26   \n",
       "245         wu       sung          -  47u - 48u         7.61       7.12   \n",
       "87      finley   chandler  31u - 45u          -         7.65       7.26   \n",
       "10      joseph        day  29u - 36u          -         7.70       7.19   \n",
       "227      erica  macdonald  33u - 39u          -         7.55       7.26   \n",
       "\n",
       "     hba1c_change  \n",
       "48            NaN  \n",
       "245          0.99  \n",
       "87           0.39  \n",
       "10            NaN  \n",
       "227          0.29  "
      ]
     },
     "execution_count": 6,
     "metadata": {},
     "output_type": "execute_result"
    }
   ],
   "source": [
    "treatments.sample(5) #returns 5 entries"
   ]
  },
  {
   "cell_type": "code",
   "execution_count": 7,
   "id": "32e167e5",
   "metadata": {
    "scrolled": true
   },
   "outputs": [
    {
     "data": {
      "text/html": [
       "<div>\n",
       "<style scoped>\n",
       "    .dataframe tbody tr th:only-of-type {\n",
       "        vertical-align: middle;\n",
       "    }\n",
       "\n",
       "    .dataframe tbody tr th {\n",
       "        vertical-align: top;\n",
       "    }\n",
       "\n",
       "    .dataframe thead th {\n",
       "        text-align: right;\n",
       "    }\n",
       "</style>\n",
       "<table border=\"1\" class=\"dataframe\">\n",
       "  <thead>\n",
       "    <tr style=\"text-align: right;\">\n",
       "      <th></th>\n",
       "      <th>given_name</th>\n",
       "      <th>surname</th>\n",
       "      <th>auralin</th>\n",
       "      <th>novodra</th>\n",
       "      <th>hba1c_start</th>\n",
       "      <th>hba1c_end</th>\n",
       "      <th>hba1c_change</th>\n",
       "    </tr>\n",
       "  </thead>\n",
       "  <tbody>\n",
       "    <tr>\n",
       "      <th>157</th>\n",
       "      <td>asuna</td>\n",
       "      <td>morita</td>\n",
       "      <td>-</td>\n",
       "      <td>35u - 39u</td>\n",
       "      <td>7.58</td>\n",
       "      <td>7.25</td>\n",
       "      <td>0.33</td>\n",
       "    </tr>\n",
       "    <tr>\n",
       "      <th>7</th>\n",
       "      <td>eddie</td>\n",
       "      <td>archer</td>\n",
       "      <td>31u - 38u</td>\n",
       "      <td>-</td>\n",
       "      <td>7.89</td>\n",
       "      <td>7.55</td>\n",
       "      <td>0.34</td>\n",
       "    </tr>\n",
       "    <tr>\n",
       "      <th>99</th>\n",
       "      <td>abel</td>\n",
       "      <td>yonatan</td>\n",
       "      <td>-</td>\n",
       "      <td>38u - 39u</td>\n",
       "      <td>7.88</td>\n",
       "      <td>7.50</td>\n",
       "      <td>NaN</td>\n",
       "    </tr>\n",
       "    <tr>\n",
       "      <th>13</th>\n",
       "      <td>gregor</td>\n",
       "      <td>bole</td>\n",
       "      <td>-</td>\n",
       "      <td>47u - 45u</td>\n",
       "      <td>7.61</td>\n",
       "      <td>7.16</td>\n",
       "      <td>0.95</td>\n",
       "    </tr>\n",
       "    <tr>\n",
       "      <th>112</th>\n",
       "      <td>olof</td>\n",
       "      <td>holm</td>\n",
       "      <td>39u - 52u</td>\n",
       "      <td>-</td>\n",
       "      <td>7.85</td>\n",
       "      <td>7.43</td>\n",
       "      <td>NaN</td>\n",
       "    </tr>\n",
       "  </tbody>\n",
       "</table>\n",
       "</div>"
      ],
      "text/plain": [
       "    given_name  surname    auralin    novodra  hba1c_start  hba1c_end  \\\n",
       "157      asuna   morita          -  35u - 39u         7.58       7.25   \n",
       "7        eddie   archer  31u - 38u          -         7.89       7.55   \n",
       "99        abel  yonatan          -  38u - 39u         7.88       7.50   \n",
       "13      gregor     bole          -  47u - 45u         7.61       7.16   \n",
       "112       olof     holm  39u - 52u          -         7.85       7.43   \n",
       "\n",
       "     hba1c_change  \n",
       "157          0.33  \n",
       "7            0.34  \n",
       "99            NaN  \n",
       "13           0.95  \n",
       "112           NaN  "
      ]
     },
     "execution_count": 7,
     "metadata": {},
     "output_type": "execute_result"
    }
   ],
   "source": [
    "#Returns 5 entries with a random state 2\n",
    "treatments.sample(5, random_state=2) "
   ]
  },
  {
   "cell_type": "markdown",
   "id": "327a2095",
   "metadata": {},
   "source": [
    "**1. Completeness**"
   ]
  },
  {
   "cell_type": "code",
   "execution_count": 8,
   "id": "c693bd1c",
   "metadata": {},
   "outputs": [
    {
     "name": "stdout",
     "output_type": "stream",
     "text": [
      "<class 'pandas.core.frame.DataFrame'>\n",
      "RangeIndex: 280 entries, 0 to 279\n",
      "Data columns (total 7 columns):\n",
      " #   Column        Non-Null Count  Dtype  \n",
      "---  ------        --------------  -----  \n",
      " 0   given_name    280 non-null    object \n",
      " 1   surname       280 non-null    object \n",
      " 2   auralin       280 non-null    object \n",
      " 3   novodra       280 non-null    object \n",
      " 4   hba1c_start   280 non-null    float64\n",
      " 5   hba1c_end     280 non-null    float64\n",
      " 6   hba1c_change  171 non-null    float64\n",
      "dtypes: float64(3), object(4)\n",
      "memory usage: 15.4+ KB\n"
     ]
    }
   ],
   "source": [
    "#Get the information of the treatments dataframe using .info()\n",
    "treatments.info()"
   ]
  },
  {
   "cell_type": "markdown",
   "id": "c1161b55",
   "metadata": {},
   "source": [
    "*Interpretation:* Looking at the summary of the treatments DataFrame returned by .info we can see that there are only 171 hba1c_change entries while there are 280 entries for the other columns."
   ]
  },
  {
   "cell_type": "markdown",
   "id": "8c8c22ad",
   "metadata": {},
   "source": [
    "**2. Validity**"
   ]
  },
  {
   "cell_type": "code",
   "execution_count": 9,
   "id": "8b932f02",
   "metadata": {},
   "outputs": [
    {
     "data": {
      "text/plain": [
       "given_name       object\n",
       "surname          object\n",
       "auralin          object\n",
       "novodra          object\n",
       "hba1c_start     float64\n",
       "hba1c_end       float64\n",
       "hba1c_change    float64\n",
       "dtype: object"
      ]
     },
     "execution_count": 9,
     "metadata": {},
     "output_type": "execute_result"
    }
   ],
   "source": [
    "#Get the data types of the different variables in the dataframe\n",
    "treatments.dtypes"
   ]
  },
  {
   "cell_type": "markdown",
   "id": "3e724a8e",
   "metadata": {},
   "source": [
    "*Interpretation:* For the auralin and novodra columns, their data type is object.  Ideally, the values for these two columns would be formatted as integers or the float64 data type to make it easier to access this information."
   ]
  },
  {
   "cell_type": "markdown",
   "id": "df6958e7",
   "metadata": {},
   "source": [
    "**3. Accuracy**"
   ]
  },
  {
   "cell_type": "code",
   "execution_count": 10,
   "id": "a5e0e0e9",
   "metadata": {},
   "outputs": [
    {
     "data": {
      "text/html": [
       "<div>\n",
       "<style scoped>\n",
       "    .dataframe tbody tr th:only-of-type {\n",
       "        vertical-align: middle;\n",
       "    }\n",
       "\n",
       "    .dataframe tbody tr th {\n",
       "        vertical-align: top;\n",
       "    }\n",
       "\n",
       "    .dataframe thead th {\n",
       "        text-align: right;\n",
       "    }\n",
       "</style>\n",
       "<table border=\"1\" class=\"dataframe\">\n",
       "  <thead>\n",
       "    <tr style=\"text-align: right;\">\n",
       "      <th></th>\n",
       "      <th>hba1c_start</th>\n",
       "      <th>hba1c_end</th>\n",
       "      <th>hba1c_change</th>\n",
       "    </tr>\n",
       "  </thead>\n",
       "  <tbody>\n",
       "    <tr>\n",
       "      <th>count</th>\n",
       "      <td>280.000000</td>\n",
       "      <td>280.000000</td>\n",
       "      <td>171.000000</td>\n",
       "    </tr>\n",
       "    <tr>\n",
       "      <th>mean</th>\n",
       "      <td>7.985929</td>\n",
       "      <td>7.589286</td>\n",
       "      <td>0.546023</td>\n",
       "    </tr>\n",
       "    <tr>\n",
       "      <th>std</th>\n",
       "      <td>0.568638</td>\n",
       "      <td>0.569672</td>\n",
       "      <td>0.279555</td>\n",
       "    </tr>\n",
       "    <tr>\n",
       "      <th>min</th>\n",
       "      <td>7.500000</td>\n",
       "      <td>7.010000</td>\n",
       "      <td>0.200000</td>\n",
       "    </tr>\n",
       "    <tr>\n",
       "      <th>25%</th>\n",
       "      <td>7.660000</td>\n",
       "      <td>7.270000</td>\n",
       "      <td>0.340000</td>\n",
       "    </tr>\n",
       "    <tr>\n",
       "      <th>50%</th>\n",
       "      <td>7.800000</td>\n",
       "      <td>7.420000</td>\n",
       "      <td>0.380000</td>\n",
       "    </tr>\n",
       "    <tr>\n",
       "      <th>75%</th>\n",
       "      <td>7.970000</td>\n",
       "      <td>7.570000</td>\n",
       "      <td>0.920000</td>\n",
       "    </tr>\n",
       "    <tr>\n",
       "      <th>max</th>\n",
       "      <td>9.950000</td>\n",
       "      <td>9.580000</td>\n",
       "      <td>0.990000</td>\n",
       "    </tr>\n",
       "  </tbody>\n",
       "</table>\n",
       "</div>"
      ],
      "text/plain": [
       "       hba1c_start   hba1c_end  hba1c_change\n",
       "count   280.000000  280.000000    171.000000\n",
       "mean      7.985929    7.589286      0.546023\n",
       "std       0.568638    0.569672      0.279555\n",
       "min       7.500000    7.010000      0.200000\n",
       "25%       7.660000    7.270000      0.340000\n",
       "50%       7.800000    7.420000      0.380000\n",
       "75%       7.970000    7.570000      0.920000\n",
       "max       9.950000    9.580000      0.990000"
      ]
     },
     "execution_count": 10,
     "metadata": {},
     "output_type": "execute_result"
    }
   ],
   "source": [
    "#Describe the dataframe using .describe()\n",
    "treatments.describe()"
   ]
  },
  {
   "cell_type": "markdown",
   "id": "2f6ac564",
   "metadata": {},
   "source": [
    "*Interpretation*: 0.99 is a big max value for the hba1c_change variable. \n",
    "\n",
    "If we look below at our visual assessment of the treatments table, we'll see that this hba1c_change for this 0.97 entry for Elliot Richardson is calculated incorrectly. 7.56-7.09=0.47, not 0.97, indicating an accuracy issue."
   ]
  },
  {
   "cell_type": "code",
   "execution_count": 11,
   "id": "f9eae21d",
   "metadata": {},
   "outputs": [
    {
     "data": {
      "text/html": [
       "<div>\n",
       "<style scoped>\n",
       "    .dataframe tbody tr th:only-of-type {\n",
       "        vertical-align: middle;\n",
       "    }\n",
       "\n",
       "    .dataframe tbody tr th {\n",
       "        vertical-align: top;\n",
       "    }\n",
       "\n",
       "    .dataframe thead th {\n",
       "        text-align: right;\n",
       "    }\n",
       "</style>\n",
       "<table border=\"1\" class=\"dataframe\">\n",
       "  <thead>\n",
       "    <tr style=\"text-align: right;\">\n",
       "      <th></th>\n",
       "      <th>given_name</th>\n",
       "      <th>surname</th>\n",
       "      <th>auralin</th>\n",
       "      <th>novodra</th>\n",
       "      <th>hba1c_start</th>\n",
       "      <th>hba1c_end</th>\n",
       "      <th>hba1c_change</th>\n",
       "    </tr>\n",
       "  </thead>\n",
       "  <tbody>\n",
       "    <tr>\n",
       "      <th>0</th>\n",
       "      <td>veronika</td>\n",
       "      <td>jindrová</td>\n",
       "      <td>41u - 48u</td>\n",
       "      <td>-</td>\n",
       "      <td>7.63</td>\n",
       "      <td>7.20</td>\n",
       "      <td>NaN</td>\n",
       "    </tr>\n",
       "    <tr>\n",
       "      <th>1</th>\n",
       "      <td>elliot</td>\n",
       "      <td>richardson</td>\n",
       "      <td>-</td>\n",
       "      <td>40u - 45u</td>\n",
       "      <td>7.56</td>\n",
       "      <td>7.09</td>\n",
       "      <td>0.97</td>\n",
       "    </tr>\n",
       "    <tr>\n",
       "      <th>2</th>\n",
       "      <td>yukitaka</td>\n",
       "      <td>takenaka</td>\n",
       "      <td>-</td>\n",
       "      <td>39u - 36u</td>\n",
       "      <td>7.68</td>\n",
       "      <td>7.25</td>\n",
       "      <td>NaN</td>\n",
       "    </tr>\n",
       "    <tr>\n",
       "      <th>3</th>\n",
       "      <td>skye</td>\n",
       "      <td>gormanston</td>\n",
       "      <td>33u - 36u</td>\n",
       "      <td>-</td>\n",
       "      <td>7.97</td>\n",
       "      <td>7.62</td>\n",
       "      <td>0.35</td>\n",
       "    </tr>\n",
       "    <tr>\n",
       "      <th>4</th>\n",
       "      <td>alissa</td>\n",
       "      <td>montez</td>\n",
       "      <td>-</td>\n",
       "      <td>33u - 29u</td>\n",
       "      <td>7.78</td>\n",
       "      <td>7.46</td>\n",
       "      <td>0.32</td>\n",
       "    </tr>\n",
       "  </tbody>\n",
       "</table>\n",
       "</div>"
      ],
      "text/plain": [
       "  given_name     surname    auralin    novodra  hba1c_start  hba1c_end  \\\n",
       "0   veronika    jindrová  41u - 48u          -         7.63       7.20   \n",
       "1     elliot  richardson          -  40u - 45u         7.56       7.09   \n",
       "2   yukitaka    takenaka          -  39u - 36u         7.68       7.25   \n",
       "3       skye  gormanston  33u - 36u          -         7.97       7.62   \n",
       "4     alissa      montez          -  33u - 29u         7.78       7.46   \n",
       "\n",
       "   hba1c_change  \n",
       "0           NaN  \n",
       "1          0.97  \n",
       "2           NaN  \n",
       "3          0.35  \n",
       "4          0.32  "
      ]
     },
     "execution_count": 11,
     "metadata": {},
     "output_type": "execute_result"
    }
   ],
   "source": [
    "treatments.head()"
   ]
  },
  {
   "cell_type": "markdown",
   "id": "40dd339f",
   "metadata": {},
   "source": [
    "**4. Validity**"
   ]
  },
  {
   "cell_type": "code",
   "execution_count": 12,
   "id": "54328427",
   "metadata": {},
   "outputs": [
    {
     "data": {
      "text/plain": [
       "0"
      ]
     },
     "execution_count": 12,
     "metadata": {},
     "output_type": "execute_result"
    }
   ],
   "source": [
    "#Identify null values in our dataset\n",
    "#This value should be not null, \n",
    "#since there are hyphens indicating missing data\n",
    "sum(treatments.auralin.isnull())"
   ]
  },
  {
   "cell_type": "code",
   "execution_count": 13,
   "id": "a47acf24",
   "metadata": {},
   "outputs": [
    {
     "data": {
      "text/plain": [
       "0"
      ]
     },
     "execution_count": 13,
     "metadata": {},
     "output_type": "execute_result"
    }
   ],
   "source": [
    "#Identify null values in our dataset\n",
    "#This value should be not null, \n",
    "#since there are hyphens indicating missing data\n",
    "sum(treatments.novodra.isnull())"
   ]
  },
  {
   "cell_type": "markdown",
   "id": "6634443d",
   "metadata": {},
   "source": [
    "*Interpretation*: The dashes aren't picked up as null or non-values for the `auralin` and `novodra` columns, which can be problematic when doing calculations on the data.  Misrepresenting missing values is a validity issue."
   ]
  },
  {
   "cell_type": "markdown",
   "id": "daec0e55",
   "metadata": {},
   "source": [
    "## Data quality issues with the patients table"
   ]
  },
  {
   "cell_type": "markdown",
   "id": "fb20db3e",
   "metadata": {},
   "source": [
    "**5. Consistency**"
   ]
  },
  {
   "cell_type": "code",
   "execution_count": 23,
   "id": "737b7399",
   "metadata": {},
   "outputs": [
    {
     "data": {
      "text/html": [
       "<div>\n",
       "<style scoped>\n",
       "    .dataframe tbody tr th:only-of-type {\n",
       "        vertical-align: middle;\n",
       "    }\n",
       "\n",
       "    .dataframe tbody tr th {\n",
       "        vertical-align: top;\n",
       "    }\n",
       "\n",
       "    .dataframe thead th {\n",
       "        text-align: right;\n",
       "    }\n",
       "</style>\n",
       "<table border=\"1\" class=\"dataframe\">\n",
       "  <thead>\n",
       "    <tr style=\"text-align: right;\">\n",
       "      <th></th>\n",
       "      <th>patient_id</th>\n",
       "      <th>zip_code</th>\n",
       "      <th>weight</th>\n",
       "      <th>height</th>\n",
       "      <th>bmi</th>\n",
       "    </tr>\n",
       "  </thead>\n",
       "  <tbody>\n",
       "    <tr>\n",
       "      <th>count</th>\n",
       "      <td>503.000000</td>\n",
       "      <td>491.000000</td>\n",
       "      <td>503.000000</td>\n",
       "      <td>503.000000</td>\n",
       "      <td>503.000000</td>\n",
       "    </tr>\n",
       "    <tr>\n",
       "      <th>mean</th>\n",
       "      <td>252.000000</td>\n",
       "      <td>49084.118126</td>\n",
       "      <td>173.434990</td>\n",
       "      <td>66.634195</td>\n",
       "      <td>27.483897</td>\n",
       "    </tr>\n",
       "    <tr>\n",
       "      <th>std</th>\n",
       "      <td>145.347859</td>\n",
       "      <td>30265.807442</td>\n",
       "      <td>33.916741</td>\n",
       "      <td>4.411297</td>\n",
       "      <td>5.276438</td>\n",
       "    </tr>\n",
       "    <tr>\n",
       "      <th>min</th>\n",
       "      <td>1.000000</td>\n",
       "      <td>1002.000000</td>\n",
       "      <td>48.800000</td>\n",
       "      <td>27.000000</td>\n",
       "      <td>17.100000</td>\n",
       "    </tr>\n",
       "    <tr>\n",
       "      <th>25%</th>\n",
       "      <td>126.500000</td>\n",
       "      <td>21920.500000</td>\n",
       "      <td>149.300000</td>\n",
       "      <td>63.000000</td>\n",
       "      <td>23.300000</td>\n",
       "    </tr>\n",
       "    <tr>\n",
       "      <th>50%</th>\n",
       "      <td>252.000000</td>\n",
       "      <td>48057.000000</td>\n",
       "      <td>175.300000</td>\n",
       "      <td>67.000000</td>\n",
       "      <td>27.200000</td>\n",
       "    </tr>\n",
       "    <tr>\n",
       "      <th>75%</th>\n",
       "      <td>377.500000</td>\n",
       "      <td>75679.000000</td>\n",
       "      <td>199.500000</td>\n",
       "      <td>70.000000</td>\n",
       "      <td>31.750000</td>\n",
       "    </tr>\n",
       "    <tr>\n",
       "      <th>max</th>\n",
       "      <td>503.000000</td>\n",
       "      <td>99701.000000</td>\n",
       "      <td>255.900000</td>\n",
       "      <td>79.000000</td>\n",
       "      <td>37.700000</td>\n",
       "    </tr>\n",
       "  </tbody>\n",
       "</table>\n",
       "</div>"
      ],
      "text/plain": [
       "       patient_id      zip_code      weight      height         bmi\n",
       "count  503.000000    491.000000  503.000000  503.000000  503.000000\n",
       "mean   252.000000  49084.118126  173.434990   66.634195   27.483897\n",
       "std    145.347859  30265.807442   33.916741    4.411297    5.276438\n",
       "min      1.000000   1002.000000   48.800000   27.000000   17.100000\n",
       "25%    126.500000  21920.500000  149.300000   63.000000   23.300000\n",
       "50%    252.000000  48057.000000  175.300000   67.000000   27.200000\n",
       "75%    377.500000  75679.000000  199.500000   70.000000   31.750000\n",
       "max    503.000000  99701.000000  255.900000   79.000000   37.700000"
      ]
     },
     "execution_count": 23,
     "metadata": {},
     "output_type": "execute_result"
    }
   ],
   "source": [
    "#Use the describe() function on the patients dataframe\n",
    "patients.describe()"
   ]
  },
  {
   "cell_type": "markdown",
   "id": "627fb6df",
   "metadata": {},
   "source": [
    "*Interpretation*: The minimum weight is 48 pounds, which is very low. The average weight seems to be about 173 lbs. "
   ]
  },
  {
   "cell_type": "code",
   "execution_count": 24,
   "id": "e3d92890",
   "metadata": {},
   "outputs": [
    {
     "data": {
      "text/plain": [
       "210     48.8\n",
       "459    102.1\n",
       "335    102.7\n",
       "74     103.2\n",
       "317    106.0\n",
       "       ...  \n",
       "144    244.9\n",
       "61     244.9\n",
       "283    245.5\n",
       "118    254.5\n",
       "485    255.9\n",
       "Name: weight, Length: 503, dtype: float64"
      ]
     },
     "execution_count": 24,
     "metadata": {},
     "output_type": "execute_result"
    }
   ],
   "source": [
    "#Use sort_values() method to sort values\n",
    "#for the weight column from low to high weight.\n",
    "patients.weight.sort_values()"
   ]
  },
  {
   "cell_type": "markdown",
   "id": "19160743",
   "metadata": {},
   "source": [
    "Why is the minimum weight value 48.8? Let's look at the corresponding row."
   ]
  },
  {
   "cell_type": "code",
   "execution_count": 25,
   "id": "b011ac66",
   "metadata": {},
   "outputs": [
    {
     "data": {
      "text/html": [
       "<div>\n",
       "<style scoped>\n",
       "    .dataframe tbody tr th:only-of-type {\n",
       "        vertical-align: middle;\n",
       "    }\n",
       "\n",
       "    .dataframe tbody tr th {\n",
       "        vertical-align: top;\n",
       "    }\n",
       "\n",
       "    .dataframe thead th {\n",
       "        text-align: right;\n",
       "    }\n",
       "</style>\n",
       "<table border=\"1\" class=\"dataframe\">\n",
       "  <thead>\n",
       "    <tr style=\"text-align: right;\">\n",
       "      <th></th>\n",
       "      <th>patient_id</th>\n",
       "      <th>assigned_sex</th>\n",
       "      <th>given_name</th>\n",
       "      <th>surname</th>\n",
       "      <th>address</th>\n",
       "      <th>city</th>\n",
       "      <th>state</th>\n",
       "      <th>zip_code</th>\n",
       "      <th>country</th>\n",
       "      <th>contact</th>\n",
       "      <th>birthdate</th>\n",
       "      <th>weight</th>\n",
       "      <th>height</th>\n",
       "      <th>bmi</th>\n",
       "    </tr>\n",
       "  </thead>\n",
       "  <tbody>\n",
       "    <tr>\n",
       "      <th>210</th>\n",
       "      <td>211</td>\n",
       "      <td>female</td>\n",
       "      <td>Camilla</td>\n",
       "      <td>Zaitseva</td>\n",
       "      <td>4689 Briarhill Lane</td>\n",
       "      <td>Wooster</td>\n",
       "      <td>OH</td>\n",
       "      <td>44691.0</td>\n",
       "      <td>United States</td>\n",
       "      <td>330-202-2145CamillaZaitseva@superrito.com</td>\n",
       "      <td>11/26/1938</td>\n",
       "      <td>48.8</td>\n",
       "      <td>63</td>\n",
       "      <td>19.1</td>\n",
       "    </tr>\n",
       "  </tbody>\n",
       "</table>\n",
       "</div>"
      ],
      "text/plain": [
       "     patient_id assigned_sex given_name   surname              address  \\\n",
       "210         211       female    Camilla  Zaitseva  4689 Briarhill Lane   \n",
       "\n",
       "        city state  zip_code        country  \\\n",
       "210  Wooster    OH   44691.0  United States   \n",
       "\n",
       "                                       contact   birthdate  weight  height  \\\n",
       "210  330-202-2145CamillaZaitseva@superrito.com  11/26/1938    48.8      63   \n",
       "\n",
       "      bmi  \n",
       "210  19.1  "
      ]
     },
     "execution_count": 25,
     "metadata": {},
     "output_type": "execute_result"
    }
   ],
   "source": [
    "#Identify the row where the weight column value is at is min.\n",
    "patients[patients.weight==patients.weight.min()]"
   ]
  },
  {
   "cell_type": "markdown",
   "id": "dfdecfda",
   "metadata": {},
   "source": [
    "Let’s check this strange anomaly by making an assumption - maybe for this patient, the unit is incorrect and it is logged in kilograms instead of pounds. Let's test this by doing the calculation ourselves."
   ]
  },
  {
   "cell_type": "code",
   "execution_count": 26,
   "id": "cad9c933",
   "metadata": {},
   "outputs": [
    {
     "data": {
      "text/plain": [
       "210    19.055827\n",
       "dtype: float64"
      ]
     },
     "execution_count": 26,
     "metadata": {},
     "output_type": "execute_result"
    }
   ],
   "source": [
    "#Conversation factor from kilograms to pounds is 2.20462\n",
    "#Get the weight of the patient\n",
    "weight_lbs = patients[patients.surname == 'Zaitseva'].weight * 2.20462\n",
    "#Get the height of the patient\n",
    "height_in = patients[patients.surname == 'Zaitseva'].height\n",
    "#Calculate the BMI using the equation 703 * weight/(height^2)\n",
    "bmi_check = 703  *weight_lbs / ( height_in*  height_in )\n",
    "bmi_check"
   ]
  },
  {
   "cell_type": "code",
   "execution_count": 27,
   "id": "fc507f11",
   "metadata": {},
   "outputs": [
    {
     "data": {
      "text/plain": [
       "210    19.1\n",
       "Name: bmi, dtype: float64"
      ]
     },
     "execution_count": 27,
     "metadata": {},
     "output_type": "execute_result"
    }
   ],
   "source": [
    "#Get the patients' reported BMI\n",
    "patients[patients.surname == 'Zaitseva'].bmi"
   ]
  },
  {
   "cell_type": "markdown",
   "id": "a57741b7",
   "metadata": {},
   "source": [
    "*Interpretation:* The BMI we calculated comes up to 19.055, which is equivalent to the BMI reported in the data. This means this anomaly of the patient’s weight was actually recorded in kilograms whereas the rest of the dataset is indicating weight in pounds. This is a consistency issue with the unit measurement of the data. "
   ]
  },
  {
   "cell_type": "markdown",
   "id": "8b12cd23",
   "metadata": {},
   "source": [
    "**6. Uniqueness + Validity**"
   ]
  },
  {
   "cell_type": "code",
   "execution_count": 28,
   "id": "8825a756",
   "metadata": {},
   "outputs": [
    {
     "data": {
      "text/plain": [
       "Doe            6\n",
       "Jakobsen       3\n",
       "Taylor         3\n",
       "Ogochukwu      2\n",
       "Tucker         2\n",
       "              ..\n",
       "Casárez        1\n",
       "Mata           1\n",
       "Pospíšil       1\n",
       "Rukavina       1\n",
       "Onyekaozulu    1\n",
       "Name: surname, Length: 466, dtype: int64"
      ]
     },
     "execution_count": 28,
     "metadata": {},
     "output_type": "execute_result"
    }
   ],
   "source": [
    "#Get the number of unique values in our surname column\n",
    "patients.surname.value_counts()"
   ]
  },
  {
   "cell_type": "code",
   "execution_count": 29,
   "id": "5fda44d6",
   "metadata": {},
   "outputs": [
    {
     "data": {
      "text/plain": [
       "123 Main Street             6\n",
       "2778 North Avenue           2\n",
       "2476 Fulton Street          2\n",
       "648 Old Dear Lane           2\n",
       "3094 Oral Lake Road         1\n",
       "                           ..\n",
       "1066 Goosetown Drive        1\n",
       "4291 Patton Lane            1\n",
       "4643 Reeves Street          1\n",
       "174 Lost Creek Road         1\n",
       "3652 Boone Crockett Lane    1\n",
       "Name: address, Length: 483, dtype: int64"
      ]
     },
     "execution_count": 29,
     "metadata": {},
     "output_type": "execute_result"
    }
   ],
   "source": [
    "#Get the number of unique values in our address column\n",
    "patients.address.value_counts()"
   ]
  },
  {
   "cell_type": "code",
   "execution_count": 12,
   "id": "6f828ed6",
   "metadata": {},
   "outputs": [
    {
     "data": {
      "text/html": [
       "<div>\n",
       "<style scoped>\n",
       "    .dataframe tbody tr th:only-of-type {\n",
       "        vertical-align: middle;\n",
       "    }\n",
       "\n",
       "    .dataframe tbody tr th {\n",
       "        vertical-align: top;\n",
       "    }\n",
       "\n",
       "    .dataframe thead th {\n",
       "        text-align: right;\n",
       "    }\n",
       "</style>\n",
       "<table border=\"1\" class=\"dataframe\">\n",
       "  <thead>\n",
       "    <tr style=\"text-align: right;\">\n",
       "      <th></th>\n",
       "      <th>patient_id</th>\n",
       "      <th>assigned_sex</th>\n",
       "      <th>given_name</th>\n",
       "      <th>surname</th>\n",
       "      <th>address</th>\n",
       "      <th>city</th>\n",
       "      <th>state</th>\n",
       "      <th>zip_code</th>\n",
       "      <th>country</th>\n",
       "      <th>contact</th>\n",
       "      <th>birthdate</th>\n",
       "      <th>weight</th>\n",
       "      <th>height</th>\n",
       "      <th>bmi</th>\n",
       "    </tr>\n",
       "  </thead>\n",
       "  <tbody>\n",
       "    <tr>\n",
       "      <th>29</th>\n",
       "      <td>30</td>\n",
       "      <td>male</td>\n",
       "      <td>Jake</td>\n",
       "      <td>Jakobsen</td>\n",
       "      <td>648 Old Dear Lane</td>\n",
       "      <td>Port Jervis</td>\n",
       "      <td>New York</td>\n",
       "      <td>12771.0</td>\n",
       "      <td>United States</td>\n",
       "      <td>JakobCJakobsen@einrot.com+1 (845) 858-7707</td>\n",
       "      <td>8/1/1985</td>\n",
       "      <td>155.8</td>\n",
       "      <td>67</td>\n",
       "      <td>24.4</td>\n",
       "    </tr>\n",
       "    <tr>\n",
       "      <th>229</th>\n",
       "      <td>230</td>\n",
       "      <td>male</td>\n",
       "      <td>John</td>\n",
       "      <td>Doe</td>\n",
       "      <td>123 Main Street</td>\n",
       "      <td>New York</td>\n",
       "      <td>NY</td>\n",
       "      <td>12345.0</td>\n",
       "      <td>United States</td>\n",
       "      <td>johndoe@email.com1234567890</td>\n",
       "      <td>1/1/1975</td>\n",
       "      <td>180.0</td>\n",
       "      <td>72</td>\n",
       "      <td>24.4</td>\n",
       "    </tr>\n",
       "    <tr>\n",
       "      <th>237</th>\n",
       "      <td>238</td>\n",
       "      <td>male</td>\n",
       "      <td>John</td>\n",
       "      <td>Doe</td>\n",
       "      <td>123 Main Street</td>\n",
       "      <td>New York</td>\n",
       "      <td>NY</td>\n",
       "      <td>12345.0</td>\n",
       "      <td>United States</td>\n",
       "      <td>johndoe@email.com1234567890</td>\n",
       "      <td>1/1/1975</td>\n",
       "      <td>180.0</td>\n",
       "      <td>72</td>\n",
       "      <td>24.4</td>\n",
       "    </tr>\n",
       "    <tr>\n",
       "      <th>244</th>\n",
       "      <td>245</td>\n",
       "      <td>male</td>\n",
       "      <td>John</td>\n",
       "      <td>Doe</td>\n",
       "      <td>123 Main Street</td>\n",
       "      <td>New York</td>\n",
       "      <td>NY</td>\n",
       "      <td>12345.0</td>\n",
       "      <td>United States</td>\n",
       "      <td>johndoe@email.com1234567890</td>\n",
       "      <td>1/1/1975</td>\n",
       "      <td>180.0</td>\n",
       "      <td>72</td>\n",
       "      <td>24.4</td>\n",
       "    </tr>\n",
       "    <tr>\n",
       "      <th>251</th>\n",
       "      <td>252</td>\n",
       "      <td>male</td>\n",
       "      <td>John</td>\n",
       "      <td>Doe</td>\n",
       "      <td>123 Main Street</td>\n",
       "      <td>New York</td>\n",
       "      <td>NY</td>\n",
       "      <td>12345.0</td>\n",
       "      <td>United States</td>\n",
       "      <td>johndoe@email.com1234567890</td>\n",
       "      <td>1/1/1975</td>\n",
       "      <td>180.0</td>\n",
       "      <td>72</td>\n",
       "      <td>24.4</td>\n",
       "    </tr>\n",
       "    <tr>\n",
       "      <th>277</th>\n",
       "      <td>278</td>\n",
       "      <td>male</td>\n",
       "      <td>John</td>\n",
       "      <td>Doe</td>\n",
       "      <td>123 Main Street</td>\n",
       "      <td>New York</td>\n",
       "      <td>NY</td>\n",
       "      <td>12345.0</td>\n",
       "      <td>United States</td>\n",
       "      <td>johndoe@email.com1234567890</td>\n",
       "      <td>1/1/1975</td>\n",
       "      <td>180.0</td>\n",
       "      <td>72</td>\n",
       "      <td>24.4</td>\n",
       "    </tr>\n",
       "    <tr>\n",
       "      <th>282</th>\n",
       "      <td>283</td>\n",
       "      <td>female</td>\n",
       "      <td>Sandy</td>\n",
       "      <td>Taylor</td>\n",
       "      <td>2476 Fulton Street</td>\n",
       "      <td>Rainelle</td>\n",
       "      <td>WV</td>\n",
       "      <td>25962.0</td>\n",
       "      <td>United States</td>\n",
       "      <td>304-438-2648SandraCTaylor@dayrep.com</td>\n",
       "      <td>10/23/1960</td>\n",
       "      <td>206.1</td>\n",
       "      <td>64</td>\n",
       "      <td>35.4</td>\n",
       "    </tr>\n",
       "    <tr>\n",
       "      <th>502</th>\n",
       "      <td>503</td>\n",
       "      <td>male</td>\n",
       "      <td>Pat</td>\n",
       "      <td>Gersten</td>\n",
       "      <td>2778 North Avenue</td>\n",
       "      <td>Burr</td>\n",
       "      <td>Nebraska</td>\n",
       "      <td>68324.0</td>\n",
       "      <td>United States</td>\n",
       "      <td>PatrickGersten@rhyta.com402-848-4923</td>\n",
       "      <td>5/3/1954</td>\n",
       "      <td>138.2</td>\n",
       "      <td>71</td>\n",
       "      <td>19.3</td>\n",
       "    </tr>\n",
       "  </tbody>\n",
       "</table>\n",
       "</div>"
      ],
      "text/plain": [
       "     patient_id assigned_sex given_name   surname             address  \\\n",
       "29           30         male       Jake  Jakobsen   648 Old Dear Lane   \n",
       "229         230         male       John       Doe     123 Main Street   \n",
       "237         238         male       John       Doe     123 Main Street   \n",
       "244         245         male       John       Doe     123 Main Street   \n",
       "251         252         male       John       Doe     123 Main Street   \n",
       "277         278         male       John       Doe     123 Main Street   \n",
       "282         283       female      Sandy    Taylor  2476 Fulton Street   \n",
       "502         503         male        Pat   Gersten   2778 North Avenue   \n",
       "\n",
       "            city     state  zip_code        country  \\\n",
       "29   Port Jervis  New York   12771.0  United States   \n",
       "229     New York        NY   12345.0  United States   \n",
       "237     New York        NY   12345.0  United States   \n",
       "244     New York        NY   12345.0  United States   \n",
       "251     New York        NY   12345.0  United States   \n",
       "277     New York        NY   12345.0  United States   \n",
       "282     Rainelle        WV   25962.0  United States   \n",
       "502         Burr  Nebraska   68324.0  United States   \n",
       "\n",
       "                                        contact   birthdate  weight  height  \\\n",
       "29   JakobCJakobsen@einrot.com+1 (845) 858-7707    8/1/1985   155.8      67   \n",
       "229                 johndoe@email.com1234567890    1/1/1975   180.0      72   \n",
       "237                 johndoe@email.com1234567890    1/1/1975   180.0      72   \n",
       "244                 johndoe@email.com1234567890    1/1/1975   180.0      72   \n",
       "251                 johndoe@email.com1234567890    1/1/1975   180.0      72   \n",
       "277                 johndoe@email.com1234567890    1/1/1975   180.0      72   \n",
       "282        304-438-2648SandraCTaylor@dayrep.com  10/23/1960   206.1      64   \n",
       "502        PatrickGersten@rhyta.com402-848-4923    5/3/1954   138.2      71   \n",
       "\n",
       "      bmi  \n",
       "29   24.4  \n",
       "229  24.4  \n",
       "237  24.4  \n",
       "244  24.4  \n",
       "251  24.4  \n",
       "277  24.4  \n",
       "282  35.4  \n",
       "502  19.3  "
      ]
     },
     "execution_count": 12,
     "metadata": {},
     "output_type": "execute_result"
    }
   ],
   "source": [
    "#Use .duplicated() on the surname and address columns to get the rows\n",
    "patients[patients.duplicated(subset=['surname','address'])]"
   ]
  },
  {
   "cell_type": "markdown",
   "id": "466427ec",
   "metadata": {},
   "source": [
    "*Interpretation:* We find that there are several John Doe's that live at 123 Main Street New York, New York, ZIP Code 12345 with the email johndoe@email.com. \n",
    "\n",
    "This is a uniqueness issue, because we have multiple duplicated rows in the dataset, and a validity issue because this data doesn't conform to the defined schema of one record per patient."
   ]
  }
 ],
 "metadata": {
  "kernelspec": {
   "display_name": "Python 3 (ipykernel)",
   "language": "python",
   "name": "python3"
  },
  "language_info": {
   "codemirror_mode": {
    "name": "ipython",
    "version": 3
   },
   "file_extension": ".py",
   "mimetype": "text/x-python",
   "name": "python",
   "nbconvert_exporter": "python",
   "pygments_lexer": "ipython3",
   "version": "3.10.13"
  }
 },
 "nbformat": 4,
 "nbformat_minor": 5
}
