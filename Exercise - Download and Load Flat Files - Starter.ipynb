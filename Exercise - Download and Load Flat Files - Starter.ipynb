{
 "cells": [
  {
   "cell_type": "markdown",
   "id": "30e22d83",
   "metadata": {},
   "source": [
    "# Exercise - Download and Load Flat Files - STARTER"
   ]
  },
  {
   "cell_type": "markdown",
   "id": "85d8de5f",
   "metadata": {},
   "source": [
    "In this exercise, you will apply your skills to programmatically unzip a .zip folder and gather data from a .tsv and .csv file into pandas dataframes."
   ]
  },
  {
   "cell_type": "code",
   "execution_count": 1,
   "id": "7072b20c",
   "metadata": {},
   "outputs": [],
   "source": [
    "#DO NOT MODIFY - imports\n",
    "import pandas as pd\n",
    "import zipfile"
   ]
  },
  {
   "cell_type": "markdown",
   "id": "ea8c5582",
   "metadata": {},
   "source": [
    "## 1. Unzip .zip file programmatically"
   ]
  },
  {
   "cell_type": "markdown",
   "id": "8c129661",
   "metadata": {},
   "source": [
    "We will load data from the Rotten Tomatoes Top 100 Movies of All Time list along with some short reviews. We've pre-gathered this dataset and stored them in the `reviews.zip` file.\n",
    "\n",
    "For the first part of this exercise, unzip the `reviews.zip` in read mode using a context manager."
   ]
  },
  {
   "cell_type": "code",
   "execution_count": 4,
   "id": "db767360",
   "metadata": {},
   "outputs": [],
   "source": [
    "#FILL IN - unzip the zip file in read mode using a context manager\n",
    "with zipfile.ZipFile(\"reviews.zip\",\"r\") as zip_ref:\n",
    "    zip_ref.extractall(\"reviews_csv/\")"
   ]
  },
  {
   "cell_type": "code",
   "execution_count": 5,
   "id": "b69db65e",
   "metadata": {},
   "outputs": [
    {
     "name": "stdout",
     "output_type": "stream",
     "text": [
      "bestofrt.tsv  reviews.csv\r\n"
     ]
    }
   ],
   "source": [
    "ls reviews_csv"
   ]
  },
  {
   "cell_type": "markdown",
   "id": "f9d9b7c6",
   "metadata": {},
   "source": [
    "## 2. Load the TSV file\n",
    "\n",
    "The `reviews` folder contains a `bestofrt.tsv` file which includes the following columns:\n",
    "\n",
    "- `ranking`: Rank of the movie\n",
    "- `critic_score`: Rating\n",
    "- `title`: Title of the movie\n",
    "- `number_of_critic_ratings`: Number of reviews\n",
    "\n",
    "The data has 101 rows.\n",
    "\n",
    "Now, load the .tsv file into a pandas dataframe while:\n",
    "1. Specifying the data types of the individual columns\n",
    "2. Denoting the `ranking` column as the index."
   ]
  },
  {
   "cell_type": "code",
   "execution_count": 13,
   "id": "9d43536d",
   "metadata": {},
   "outputs": [],
   "source": [
    "#FILL IN - load a tsv into a pandas dataframe\n",
    "bestofrt_df = pd.read_csv('reviews_csv/bestofrt.tsv', sep='\\t')"
   ]
  },
  {
   "cell_type": "code",
   "execution_count": 14,
   "id": "46b6cbb7",
   "metadata": {},
   "outputs": [
    {
     "data": {
      "text/html": [
       "<div>\n",
       "<style scoped>\n",
       "    .dataframe tbody tr th:only-of-type {\n",
       "        vertical-align: middle;\n",
       "    }\n",
       "\n",
       "    .dataframe tbody tr th {\n",
       "        vertical-align: top;\n",
       "    }\n",
       "\n",
       "    .dataframe thead th {\n",
       "        text-align: right;\n",
       "    }\n",
       "</style>\n",
       "<table border=\"1\" class=\"dataframe\">\n",
       "  <thead>\n",
       "    <tr style=\"text-align: right;\">\n",
       "      <th></th>\n",
       "      <th>ranking</th>\n",
       "      <th>critic_score</th>\n",
       "      <th>title</th>\n",
       "      <th>number_of_critic_ratings</th>\n",
       "    </tr>\n",
       "  </thead>\n",
       "  <tbody>\n",
       "    <tr>\n",
       "      <th>0</th>\n",
       "      <td>1</td>\n",
       "      <td>99</td>\n",
       "      <td>The Wizard of Oz (1939)</td>\n",
       "      <td>110</td>\n",
       "    </tr>\n",
       "    <tr>\n",
       "      <th>1</th>\n",
       "      <td>2</td>\n",
       "      <td>100</td>\n",
       "      <td>Citizen Kane (1941)</td>\n",
       "      <td>75</td>\n",
       "    </tr>\n",
       "    <tr>\n",
       "      <th>2</th>\n",
       "      <td>3</td>\n",
       "      <td>100</td>\n",
       "      <td>The Third Man (1949)</td>\n",
       "      <td>77</td>\n",
       "    </tr>\n",
       "    <tr>\n",
       "      <th>3</th>\n",
       "      <td>4</td>\n",
       "      <td>99</td>\n",
       "      <td>Get Out (2017)</td>\n",
       "      <td>282</td>\n",
       "    </tr>\n",
       "    <tr>\n",
       "      <th>4</th>\n",
       "      <td>5</td>\n",
       "      <td>97</td>\n",
       "      <td>Mad Max: Fury Road (2015)</td>\n",
       "      <td>370</td>\n",
       "    </tr>\n",
       "  </tbody>\n",
       "</table>\n",
       "</div>"
      ],
      "text/plain": [
       "   ranking  critic_score                      title  number_of_critic_ratings\n",
       "0        1            99    The Wizard of Oz (1939)                       110\n",
       "1        2           100        Citizen Kane (1941)                        75\n",
       "2        3           100       The Third Man (1949)                        77\n",
       "3        4            99             Get Out (2017)                       282\n",
       "4        5            97  Mad Max: Fury Road (2015)                       370"
      ]
     },
     "execution_count": 14,
     "metadata": {},
     "output_type": "execute_result"
    }
   ],
   "source": [
    "#FILL IN - show the dataframe\n",
    "bestofrt_df.head()"
   ]
  },
  {
   "cell_type": "markdown",
   "id": "451419e2",
   "metadata": {},
   "source": [
    "## 3. Load the CSV file"
   ]
  },
  {
   "cell_type": "markdown",
   "id": "9d68a9da",
   "metadata": {},
   "source": [
    "We've also included a review dataset, `reviews.csv`, in the folder, consisting of synthetic data around individual viewers who wrote short reviews and provided ratings corresponding to the movies.\n",
    "\n",
    "Now load the .csv file into a dataframe **while** doing the following:\n",
    "- Marketing the 'Not Collected' values as NaNs\n",
    "- Defining the header as the first (0th) row of the .csv"
   ]
  },
  {
   "cell_type": "code",
   "execution_count": 15,
   "id": "89e8dbac",
   "metadata": {},
   "outputs": [],
   "source": [
    "#FILL IN - load a csv into a pandas dataframe\n",
    "reviews_df = pd.read_csv('reviews_csv/reviews.csv')"
   ]
  },
  {
   "cell_type": "code",
   "execution_count": 16,
   "id": "b63268ff",
   "metadata": {},
   "outputs": [
    {
     "data": {
      "text/html": [
       "<div>\n",
       "<style scoped>\n",
       "    .dataframe tbody tr th:only-of-type {\n",
       "        vertical-align: middle;\n",
       "    }\n",
       "\n",
       "    .dataframe tbody tr th {\n",
       "        vertical-align: top;\n",
       "    }\n",
       "\n",
       "    .dataframe thead th {\n",
       "        text-align: right;\n",
       "    }\n",
       "</style>\n",
       "<table border=\"1\" class=\"dataframe\">\n",
       "  <thead>\n",
       "    <tr style=\"text-align: right;\">\n",
       "      <th></th>\n",
       "      <th>Movie</th>\n",
       "      <th>Viewer</th>\n",
       "      <th>Review</th>\n",
       "      <th>Rating</th>\n",
       "    </tr>\n",
       "  </thead>\n",
       "  <tbody>\n",
       "    <tr>\n",
       "      <th>0</th>\n",
       "      <td>The Wizard of Oz (1939)</td>\n",
       "      <td>Mark,Mary</td>\n",
       "      <td>Great movie, excellent plot!</td>\n",
       "      <td>5</td>\n",
       "    </tr>\n",
       "    <tr>\n",
       "      <th>1</th>\n",
       "      <td>Get Out (2017)</td>\n",
       "      <td>Tariq,Candice</td>\n",
       "      <td>Could have had better character devlopment.</td>\n",
       "      <td>3</td>\n",
       "    </tr>\n",
       "    <tr>\n",
       "      <th>2</th>\n",
       "      <td>The Wizard of Oz (1939)</td>\n",
       "      <td>Olga</td>\n",
       "      <td>Ok.</td>\n",
       "      <td>Not Collected</td>\n",
       "    </tr>\n",
       "    <tr>\n",
       "      <th>3</th>\n",
       "      <td>Dunkirk (2017)</td>\n",
       "      <td>Candice,Tariq</td>\n",
       "      <td>I loved it, recommended it to all my friends!</td>\n",
       "      <td>5</td>\n",
       "    </tr>\n",
       "    <tr>\n",
       "      <th>4</th>\n",
       "      <td>The Jungle Book (2016)</td>\n",
       "      <td>Olga</td>\n",
       "      <td>A great movie, but I felt the plot was rushed.</td>\n",
       "      <td>4</td>\n",
       "    </tr>\n",
       "  </tbody>\n",
       "</table>\n",
       "</div>"
      ],
      "text/plain": [
       "                     Movie         Viewer  \\\n",
       "0  The Wizard of Oz (1939)      Mark,Mary   \n",
       "1           Get Out (2017)  Tariq,Candice   \n",
       "2  The Wizard of Oz (1939)           Olga   \n",
       "3           Dunkirk (2017)  Candice,Tariq   \n",
       "4   The Jungle Book (2016)           Olga   \n",
       "\n",
       "                                           Review         Rating  \n",
       "0                    Great movie, excellent plot!              5  \n",
       "1     Could have had better character devlopment.              3  \n",
       "2                                             Ok.  Not Collected  \n",
       "3   I loved it, recommended it to all my friends!              5  \n",
       "4  A great movie, but I felt the plot was rushed.              4  "
      ]
     },
     "execution_count": 16,
     "metadata": {},
     "output_type": "execute_result"
    }
   ],
   "source": [
    "#FILL IN - show the dataframe\n",
    "reviews_df.head()"
   ]
  }
 ],
 "metadata": {
  "kernelspec": {
   "display_name": "Python 3 (ipykernel)",
   "language": "python",
   "name": "python3"
  },
  "language_info": {
   "codemirror_mode": {
    "name": "ipython",
    "version": 3
   },
   "file_extension": ".py",
   "mimetype": "text/x-python",
   "name": "python",
   "nbconvert_exporter": "python",
   "pygments_lexer": "ipython3",
   "version": "3.10.13"
  }
 },
 "nbformat": 4,
 "nbformat_minor": 5
}
